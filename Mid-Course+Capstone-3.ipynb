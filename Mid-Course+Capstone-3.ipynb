{
 "cells": [
  {
   "cell_type": "markdown",
   "metadata": {},
   "source": [
    "# Mid-Course Capstone: Predicting Las Vegas Restaurant Inspections #"
   ]
  },
  {
   "cell_type": "markdown",
   "metadata": {},
   "source": [
    "## by Lorenz Madarang ##"
   ]
  },
  {
   "cell_type": "markdown",
   "metadata": {},
   "source": [
    "### Data: https://opendata.lasvegasnevada.gov/Public-Safety/Restaurant-Inspections/q8ye-5kwk ###"
   ]
  },
  {
   "cell_type": "code",
   "execution_count": 1,
   "metadata": {
    "collapsed": true
   },
   "outputs": [],
   "source": [
    "%matplotlib inline\n",
    "import numpy as np\n",
    "import pandas as pd\n",
    "import scipy\n",
    "import sklearn\n",
    "import matplotlib.pyplot as plt\n",
    "import seaborn as sns\n",
    "import re\n",
    "from string import punctuation\n",
    "from collections import Counter\n",
    "import operator\n",
    "from sklearn import linear_model\n",
    "import statsmodels.formula.api as smf\n",
    "\n",
    "# Display preferences.\n",
    "%matplotlib inline\n",
    "pd.options.display.float_format = '{:.3f}'.format"
   ]
  },
  {
   "cell_type": "markdown",
   "metadata": {},
   "source": [
    "### Load the Data ###"
   ]
  },
  {
   "cell_type": "code",
   "execution_count": 2,
   "metadata": {
    "collapsed": true
   },
   "outputs": [],
   "source": [
    "restaurant=pd.read_csv('Restaurant_Inspections2.csv')"
   ]
  },
  {
   "cell_type": "code",
   "execution_count": 3,
   "metadata": {},
   "outputs": [
    {
     "data": {
      "text/html": [
       "<div>\n",
       "<style>\n",
       "    .dataframe thead tr:only-child th {\n",
       "        text-align: right;\n",
       "    }\n",
       "\n",
       "    .dataframe thead th {\n",
       "        text-align: left;\n",
       "    }\n",
       "\n",
       "    .dataframe tbody tr th {\n",
       "        vertical-align: top;\n",
       "    }\n",
       "</style>\n",
       "<table border=\"1\" class=\"dataframe\">\n",
       "  <thead>\n",
       "    <tr style=\"text-align: right;\">\n",
       "      <th></th>\n",
       "      <th>Serial Number</th>\n",
       "      <th>Permit Number</th>\n",
       "      <th>Restaurant Name</th>\n",
       "      <th>Location Name</th>\n",
       "      <th>Category Name</th>\n",
       "      <th>Address</th>\n",
       "      <th>City</th>\n",
       "      <th>State</th>\n",
       "      <th>Zip</th>\n",
       "      <th>Current Demerits</th>\n",
       "      <th>...</th>\n",
       "      <th>Inspection Time</th>\n",
       "      <th>Employee ID</th>\n",
       "      <th>Inspection Type</th>\n",
       "      <th>Inspection Demerits</th>\n",
       "      <th>Inspection Grade</th>\n",
       "      <th>Permit Status</th>\n",
       "      <th>Inspection Result</th>\n",
       "      <th>Violations</th>\n",
       "      <th>Record Updated</th>\n",
       "      <th>Location 1</th>\n",
       "    </tr>\n",
       "  </thead>\n",
       "  <tbody>\n",
       "    <tr>\n",
       "      <th>159248</th>\n",
       "      <td>DAYI06QJ2</td>\n",
       "      <td>PR0017255</td>\n",
       "      <td>Subway #35507</td>\n",
       "      <td>Subway #35507</td>\n",
       "      <td>Restaurant</td>\n",
       "      <td>6770 N Durango Dr</td>\n",
       "      <td>Las Vegas</td>\n",
       "      <td>Nevada</td>\n",
       "      <td>89149-4497</td>\n",
       "      <td>8</td>\n",
       "      <td>...</td>\n",
       "      <td>12/22/2016 09:30:00 AM</td>\n",
       "      <td>EE7000860</td>\n",
       "      <td>Re-inspection</td>\n",
       "      <td>0</td>\n",
       "      <td>A</td>\n",
       "      <td>A</td>\n",
       "      <td>'A' Grade</td>\n",
       "      <td>2910,2930</td>\n",
       "      <td>12/22/2016 09:46:04 AM</td>\n",
       "      <td>(36.284018, 115.287246)</td>\n",
       "    </tr>\n",
       "    <tr>\n",
       "      <th>159249</th>\n",
       "      <td>DAYI0MOQT</td>\n",
       "      <td>PR0100603</td>\n",
       "      <td>CENTERPLATE CLUB LEVEL RESTAURANT REMOTE SERVI...</td>\n",
       "      <td>CENTERPLATE @ CASHMAN</td>\n",
       "      <td>Caterer</td>\n",
       "      <td>850 N LAS VEGAS</td>\n",
       "      <td>Las Vegas</td>\n",
       "      <td>Nevada</td>\n",
       "      <td>89101</td>\n",
       "      <td>0</td>\n",
       "      <td>...</td>\n",
       "      <td>03/25/2017 11:25:00 AM</td>\n",
       "      <td>EE7001145</td>\n",
       "      <td>Routine Inspection</td>\n",
       "      <td>0</td>\n",
       "      <td>A</td>\n",
       "      <td>A</td>\n",
       "      <td>'A' Grade</td>\n",
       "      <td>NaN</td>\n",
       "      <td>03/25/2017 01:18:42 PM</td>\n",
       "      <td>(36.1800444, 115.131106)</td>\n",
       "    </tr>\n",
       "    <tr>\n",
       "      <th>159250</th>\n",
       "      <td>DAZZIWEAM</td>\n",
       "      <td>PR0109205</td>\n",
       "      <td>CROMWELL GIADA BAR</td>\n",
       "      <td>CROMWELL LAS VEGAS, THE</td>\n",
       "      <td>Bar / Tavern</td>\n",
       "      <td>3595 S Las Vegas Blvd</td>\n",
       "      <td>Las Vegas</td>\n",
       "      <td>Nevada</td>\n",
       "      <td>89109-8918</td>\n",
       "      <td>0</td>\n",
       "      <td>...</td>\n",
       "      <td>05/23/2017 01:30:00 PM</td>\n",
       "      <td>EE7001108</td>\n",
       "      <td>Routine Inspection</td>\n",
       "      <td>0</td>\n",
       "      <td>A</td>\n",
       "      <td>A</td>\n",
       "      <td>'A' Grade</td>\n",
       "      <td>2928</td>\n",
       "      <td>05/23/2017 02:10:02 PM</td>\n",
       "      <td>(36.1150489, 115.1718307)</td>\n",
       "    </tr>\n",
       "    <tr>\n",
       "      <th>159251</th>\n",
       "      <td>DAZZG9K1Z</td>\n",
       "      <td>PR0000007</td>\n",
       "      <td>McDonald's Restaurant 31454</td>\n",
       "      <td>McDonald's Restaurant 31454</td>\n",
       "      <td>Restaurant</td>\n",
       "      <td>10590 Southern Highlands Pkwy</td>\n",
       "      <td>Las Vegas</td>\n",
       "      <td>Nevada</td>\n",
       "      <td>89141-4373</td>\n",
       "      <td>3</td>\n",
       "      <td>...</td>\n",
       "      <td>06/02/2017 09:55:00 AM</td>\n",
       "      <td>EE7001088</td>\n",
       "      <td>Routine Inspection</td>\n",
       "      <td>3</td>\n",
       "      <td>A</td>\n",
       "      <td>A</td>\n",
       "      <td>'A' Grade</td>\n",
       "      <td>215,2912</td>\n",
       "      <td>06/02/2017 10:38:42 AM</td>\n",
       "      <td>(35.9972358, 115.2069332)</td>\n",
       "    </tr>\n",
       "    <tr>\n",
       "      <th>159252</th>\n",
       "      <td>DAZZKMVJT</td>\n",
       "      <td>PR0115611</td>\n",
       "      <td>SBS CONCESSION STAND #11</td>\n",
       "      <td>SAM BOYD STADIUM</td>\n",
       "      <td>Snack Bar</td>\n",
       "      <td>7000 RUSSELL</td>\n",
       "      <td>Las Vegas</td>\n",
       "      <td>Nevada</td>\n",
       "      <td>89122</td>\n",
       "      <td>6</td>\n",
       "      <td>...</td>\n",
       "      <td>02/08/2017 06:10:00 PM</td>\n",
       "      <td>EE7001020</td>\n",
       "      <td>Routine Inspection</td>\n",
       "      <td>6</td>\n",
       "      <td>A</td>\n",
       "      <td>A</td>\n",
       "      <td>'A' Grade</td>\n",
       "      <td>215,2930,2955</td>\n",
       "      <td>02/08/2017 06:43:02 PM</td>\n",
       "      <td>(36.086048, 115.1793068)</td>\n",
       "    </tr>\n",
       "  </tbody>\n",
       "</table>\n",
       "<p>5 rows × 23 columns</p>\n",
       "</div>"
      ],
      "text/plain": [
       "       Serial Number Permit Number  \\\n",
       "159248     DAYI06QJ2     PR0017255   \n",
       "159249     DAYI0MOQT     PR0100603   \n",
       "159250     DAZZIWEAM     PR0109205   \n",
       "159251     DAZZG9K1Z     PR0000007   \n",
       "159252     DAZZKMVJT     PR0115611   \n",
       "\n",
       "                                          Restaurant Name  \\\n",
       "159248                                      Subway #35507   \n",
       "159249  CENTERPLATE CLUB LEVEL RESTAURANT REMOTE SERVI...   \n",
       "159250                                 CROMWELL GIADA BAR   \n",
       "159251                        McDonald's Restaurant 31454   \n",
       "159252                           SBS CONCESSION STAND #11   \n",
       "\n",
       "                      Location Name Category Name  \\\n",
       "159248                Subway #35507    Restaurant   \n",
       "159249        CENTERPLATE @ CASHMAN       Caterer   \n",
       "159250      CROMWELL LAS VEGAS, THE  Bar / Tavern   \n",
       "159251  McDonald's Restaurant 31454    Restaurant   \n",
       "159252             SAM BOYD STADIUM     Snack Bar   \n",
       "\n",
       "                              Address       City   State         Zip  \\\n",
       "159248              6770 N Durango Dr  Las Vegas  Nevada  89149-4497   \n",
       "159249                850 N LAS VEGAS  Las Vegas  Nevada       89101   \n",
       "159250          3595 S Las Vegas Blvd  Las Vegas  Nevada  89109-8918   \n",
       "159251  10590 Southern Highlands Pkwy  Las Vegas  Nevada  89141-4373   \n",
       "159252                   7000 RUSSELL  Las Vegas  Nevada       89122   \n",
       "\n",
       "        Current Demerits            ...                     Inspection Time  \\\n",
       "159248                 8            ...              12/22/2016 09:30:00 AM   \n",
       "159249                 0            ...              03/25/2017 11:25:00 AM   \n",
       "159250                 0            ...              05/23/2017 01:30:00 PM   \n",
       "159251                 3            ...              06/02/2017 09:55:00 AM   \n",
       "159252                 6            ...              02/08/2017 06:10:00 PM   \n",
       "\n",
       "       Employee ID     Inspection Type Inspection Demerits Inspection Grade  \\\n",
       "159248   EE7000860       Re-inspection                   0                A   \n",
       "159249   EE7001145  Routine Inspection                   0                A   \n",
       "159250   EE7001108  Routine Inspection                   0                A   \n",
       "159251   EE7001088  Routine Inspection                   3                A   \n",
       "159252   EE7001020  Routine Inspection                   6                A   \n",
       "\n",
       "       Permit Status  Inspection Result     Violations  \\\n",
       "159248             A          'A' Grade      2910,2930   \n",
       "159249             A          'A' Grade            NaN   \n",
       "159250             A          'A' Grade           2928   \n",
       "159251             A          'A' Grade       215,2912   \n",
       "159252             A          'A' Grade  215,2930,2955   \n",
       "\n",
       "                Record Updated                 Location 1  \n",
       "159248  12/22/2016 09:46:04 AM    (36.284018, 115.287246)  \n",
       "159249  03/25/2017 01:18:42 PM   (36.1800444, 115.131106)  \n",
       "159250  05/23/2017 02:10:02 PM  (36.1150489, 115.1718307)  \n",
       "159251  06/02/2017 10:38:42 AM  (35.9972358, 115.2069332)  \n",
       "159252  02/08/2017 06:43:02 PM   (36.086048, 115.1793068)  \n",
       "\n",
       "[5 rows x 23 columns]"
      ]
     },
     "execution_count": 3,
     "metadata": {},
     "output_type": "execute_result"
    }
   ],
   "source": [
    "restaurant.tail()"
   ]
  },
  {
   "cell_type": "markdown",
   "metadata": {},
   "source": [
    "### Initial Look at the Data ###\n",
    "By looking at the info of the data, we see that there are some nulls in the data.  The sums of all the null observations shows which columns have the most nulls.  The column \"Permit Status\" has the most nulls.  "
   ]
  },
  {
   "cell_type": "code",
   "execution_count": 4,
   "metadata": {},
   "outputs": [
    {
     "name": "stdout",
     "output_type": "stream",
     "text": [
      "<class 'pandas.core.frame.DataFrame'>\n",
      "RangeIndex: 159253 entries, 0 to 159252\n",
      "Data columns (total 23 columns):\n",
      "Serial Number          159253 non-null object\n",
      "Permit Number          159253 non-null object\n",
      "Restaurant Name        159250 non-null object\n",
      "Location Name          159243 non-null object\n",
      "Category Name          159253 non-null object\n",
      "Address                159190 non-null object\n",
      "City                   159235 non-null object\n",
      "State                  159253 non-null object\n",
      "Zip                    159234 non-null object\n",
      "Current Demerits       159253 non-null int64\n",
      "Current Grade          159225 non-null object\n",
      "Date Current           159253 non-null object\n",
      "Inspection Date        159253 non-null object\n",
      "Inspection Time        159210 non-null object\n",
      "Employee ID            159253 non-null object\n",
      "Inspection Type        159253 non-null object\n",
      "Inspection Demerits    159253 non-null int64\n",
      "Inspection Grade       157553 non-null object\n",
      "Permit Status          39645 non-null object\n",
      "Inspection Result      159253 non-null object\n",
      "Violations             122098 non-null object\n",
      "Record Updated         159253 non-null object\n",
      "Location 1             159253 non-null object\n",
      "dtypes: int64(2), object(21)\n",
      "memory usage: 27.9+ MB\n"
     ]
    }
   ],
   "source": [
    "restaurant.info()"
   ]
  },
  {
   "cell_type": "code",
   "execution_count": 5,
   "metadata": {},
   "outputs": [
    {
     "data": {
      "text/plain": [
       "Serial Number               0\n",
       "Permit Number               0\n",
       "Restaurant Name             3\n",
       "Location Name              10\n",
       "Category Name               0\n",
       "Address                    63\n",
       "City                       18\n",
       "State                       0\n",
       "Zip                        19\n",
       "Current Demerits            0\n",
       "Current Grade              28\n",
       "Date Current                0\n",
       "Inspection Date             0\n",
       "Inspection Time            43\n",
       "Employee ID                 0\n",
       "Inspection Type             0\n",
       "Inspection Demerits         0\n",
       "Inspection Grade         1700\n",
       "Permit Status          119608\n",
       "Inspection Result           0\n",
       "Violations              37155\n",
       "Record Updated              0\n",
       "Location 1                  0\n",
       "dtype: int64"
      ]
     },
     "execution_count": 5,
     "metadata": {},
     "output_type": "execute_result"
    }
   ],
   "source": [
    "restaurant.isnull().sum()"
   ]
  },
  {
   "cell_type": "markdown",
   "metadata": {},
   "source": [
    "### Target Feature Engineering and Converting Inspection Time to Datetime object ###\n",
    "I created a data model that will predict whether or not a restaurant will get a downgrade in grade after an inspection.  I created a target column that is a boolean column that states or not a restaurant will get a downgrade after an inspection, \"1\", or not, \"0.\"  To create this target column, I used a regular expression to find whether the word \"Downgrade\" was present in the \"Inspection Result\" column.  I also changed the 'Inspection Time' and 'Inspection Date' columns to datetime objects to help with Exploratory Data Analysis by time and by sorting the dataset in chronological order."
   ]
  },
  {
   "cell_type": "code",
   "execution_count": 6,
   "metadata": {},
   "outputs": [
    {
     "data": {
      "text/plain": [
       "\"'B' Downgrade\""
      ]
     },
     "execution_count": 6,
     "metadata": {},
     "output_type": "execute_result"
    }
   ],
   "source": [
    "#Sample 'Inspection Result' variable\n",
    "restaurant.loc[45, 'Inspection Result']"
   ]
  },
  {
   "cell_type": "code",
   "execution_count": 7,
   "metadata": {
    "collapsed": true
   },
   "outputs": [],
   "source": [
    "#Create an empty list that will hold the boolean expression indicating a downgrade\n",
    "downgrade_cat = []\n",
    "\n",
    "#Iterate through Dataframe \n",
    "for index, row in restaurant.iterrows():\n",
    "    #Use regex to see if 'Downgrade' is in the 'Inspection Result' column\n",
    "    #Append downgrade_cat with '1' if present, '0' otherwise\n",
    "    if re.match('.*(Downgrade)',str(row['Inspection Result'])):\n",
    "        downgrade_cat.append(1)\n",
    "    else:\n",
    "        downgrade_cat.append(0)\n",
    "\n",
    "#Create new boolean column indicating downgrade or not\n",
    "restaurant['Downgrade'] = downgrade_cat"
   ]
  },
  {
   "cell_type": "code",
   "execution_count": 8,
   "metadata": {
    "collapsed": true
   },
   "outputs": [],
   "source": [
    "#Convert 'Inspection Time' and 'Inspection Date' to datetime object\n",
    "restaurant[\"Inspection Time\"] = pd.to_datetime(restaurant[\"Inspection Time\"])\n",
    "restaurant[\"Inspection Date\"] = pd.to_datetime(restaurant[\"Inspection Date\"])\n",
    "\n",
    "#Create empty list that will hold the year, month, and hour values\n",
    "year = []\n",
    "month = []\n",
    "hour = []\n",
    "\n",
    "#Iterate through Dataframe\n",
    "for index, row in restaurant.iterrows():\n",
    "    year.append(row['Inspection Time'].year)\n",
    "    month.append(row['Inspection Time'].month)\n",
    "    hour.append(row['Inspection Time'].hour)\n",
    "    \n",
    "restaurant['Year'] = year\n",
    "restaurant['Month'] = month\n",
    "restaurant['Hour'] = hour   "
   ]
  },
  {
   "cell_type": "markdown",
   "metadata": {},
   "source": [
    "## Exploratory Data Analysis ##\n",
    "1.) Percentage of Downgrades\n",
    "\n",
    "2.) Current Demerits Analysis\n",
    "\n",
    "    a.) Histogram\n",
    "    b.) t-test\n",
    "    c.) Linear Regression\n",
    "    \n",
    "3.) Downgrades by Restaurant Category\n",
    "\n",
    "4.) Downgrades by Zip Code\n",
    "\n",
    "5.) Downgrades by Year, Month, and Hour\n",
    "\n",
    "************************************************************"
   ]
  },
  {
   "cell_type": "markdown",
   "metadata": {},
   "source": [
    "#### 1.) Percentage of Downgrades ####\n",
    "Restaurant downgrades account for about 11% percent of the data.  So it is possible for a model to be about 89% percent accurate by only guessing that a restaurant will not experience a downgrade.  In this instance it is quite important that the focus is on looking at optimizing the sensitivity."
   ]
  },
  {
   "cell_type": "code",
   "execution_count": 10,
   "metadata": {},
   "outputs": [
    {
     "name": "stdout",
     "output_type": "stream",
     "text": [
      "11.12% of the dataset contains downgrades\n"
     ]
    }
   ],
   "source": [
    "#Create a dataframe that contains only restaurants that have had a downgrade in grade after an inspection\n",
    "downgrade = restaurant[(restaurant['Downgrade'] == 1)]\n",
    "\n",
    "#Create a dataframe that contains only restaurants that do not have a downgrade in grade after an inspection\n",
    "no_downgrade = restaurant[(restaurant['Downgrade'] == 0)]\n",
    "\n",
    "#Percentage of downgrades\n",
    "downgrade_percent = (len(downgrade)/len(restaurant)) * 100\n",
    "print(\"{:.2F}% of the dataset contains downgrades\".format(downgrade_percent))"
   ]
  },
  {
   "cell_type": "markdown",
   "metadata": {},
   "source": [
    "#### 2a.) Histogram of Current Demerits ####\n",
    "Looking at the juxtaposed histograms of the Las Vegas Restaurant population, the non-downgraded restaurants, and the downgraded restaurants, it doesn't look like there is much of a difference in the distribution.  \n"
   ]
  },
  {
   "cell_type": "code",
   "execution_count": 91,
   "metadata": {},
   "outputs": [
    {
     "data": {
      "text/plain": [
       "<matplotlib.text.Text at 0x1a3334be10>"
      ]
     },
     "execution_count": 91,
     "metadata": {},
     "output_type": "execute_result"
    },
    {
     "data": {
      "image/png": "[encoded data removed]",
      "text/plain": [
       "<matplotlib.figure.Figure at 0x1a2553aba8>"
      ]
     },
     "metadata": {},
     "output_type": "display_data"
    }
   ],
   "source": [
    "x = restaurant['Current Demerits']\n",
    "y = no_downgrade['Current Demerits']\n",
    "z = downgrade['Current Demerits']\n",
    "\n",
    "#Create juxtaposed histograms \n",
    "fig, ax = plt.subplots()\n",
    "for a in [x, y, z]:\n",
    "    sns.distplot(a, bins=range(1, 20, 2), ax=ax, kde=False)\n",
    "ax.set_xlim([0, 20])\n",
    "ax.set_title(\"Histogram of LV Restaurant Pop., No-Downgrades, and Downgrades\")"
   ]
  },
  {
   "cell_type": "markdown",
   "metadata": {},
   "source": [
    "#### 2b.) Current Demerits t-test\n",
    "Looking at the Current Demerit means between the population and the two samples it looks like there is a difference.  To furthur test the differences, I conducted a t-test between the Las Vegas restaurant population current demerit mean and the sampled downgraded restaurant current demerit mean.  The t-test concludes that there is a significant difference between the means.  The 'Current Demerits' column is a very good candiate for a feature in predicting a restaurant's inspection results.  "
   ]
  },
  {
   "cell_type": "code",
   "execution_count": 12,
   "metadata": {},
   "outputs": [
    {
     "name": "stdout",
     "output_type": "stream",
     "text": [
      "The Mean Current Demerit for the Las Vegas Restaurant population is 3.92\n",
      "The Mean Current Demerit for the Non-downgraded restaurants is 3.79\n",
      "The Mean Current Demerit for the Downgraded restaurants is 5.00\n"
     ]
    }
   ],
   "source": [
    "print('The Mean Current Demerit for the Las Vegas Restaurant population is {:.2F}'.format(restaurant['Current Demerits'].mean()))\n",
    "print('The Mean Current Demerit for the Non-downgraded restaurants is {:.2F}'.format(no_downgrade['Current Demerits'].mean()))\n",
    "print('The Mean Current Demerit for the Downgraded restaurants is {:.2F}'.format(downgrade['Current Demerits'].mean()))"
   ]
  },
  {
   "cell_type": "code",
   "execution_count": 13,
   "metadata": {},
   "outputs": [
    {
     "name": "stdout",
     "output_type": "stream",
     "text": [
      "t-value = -31.4303057648\n",
      "p-value = 6.17985462055e-216\n"
     ]
    }
   ],
   "source": [
    "# t-test between Las Vegas restaurant population and downgraded restaurant sample\n",
    "from scipy import stats\n",
    "\n",
    "t2, p2 = stats.ttest_ind(x,z)\n",
    "print(\"t-value = \" + str(t2))\n",
    "print(\"p-value = \" + str(2*p2))"
   ]
  },
  {
   "cell_type": "markdown",
   "metadata": {},
   "source": [
    "#### 2c.) Linear Regression: Current Demerits & Inspection Demerits ####\n",
    "The number of Inspection Demerits determines whether or not a restaurant will get a downgrade in grade. \n",
    "\n",
    "    11-20 Inspection Demerits results in a downgrade to 'B', if it was a 'B' and a reinspection it will drop to a 'C'\n",
    "    21-40 Inspection Demerits results in a downgrade to 'C', if itw was a 'B' or 'C' and reinspection it will result in closure\n",
    "    \n",
    "    41 or more Inspection Demerits will result in closure\n",
    "\n",
    "Looking at the downgraded restaurant sample it looks like there is a slight positive correlation between the number of current demerits and inspection demerits.  "
   ]
  },
  {
   "cell_type": "code",
   "execution_count": 74,
   "metadata": {},
   "outputs": [
    {
     "data": {
      "image/png": "[encoded data removed]",
      "text/plain": [
       "<matplotlib.figure.Figure at 0x1a39709a90>"
      ]
     },
     "metadata": {},
     "output_type": "display_data"
    }
   ],
   "source": [
    "#Scatter plot of Current demerits with Inspection Demerits\n",
    "ax = sns.jointplot(\"Current Demerits\", \"Inspection Demerits\", data=downgrade, kind=\"reg\",\n",
    "                  xlim=(0, 110), ylim=(0, 110), color=\"r\", size=7)\n",
    "\n",
    "ax.fig.suptitle(\"Correlation of Current Demerits & Inspection Demerits\\n (Downgraded Restaurants)\")\n",
    "\n",
    "plt.show()"
   ]
  },
  {
   "cell_type": "markdown",
   "metadata": {},
   "source": [
    "#### 3.) Downgrades by Category Name ####\n",
    "For a Restaurant Inspection dataset, it is not very helpful to have a category identified as 'Restaurant.' The majority of the restaurants that have a downgrade are under the 'Restaurant' category.  If we remove the 'Restaurant' category, the next restaurant category with the most downgrades is 'Beer / Tavern'.  "
   ]
  },
  {
   "cell_type": "code",
   "execution_count": 15,
   "metadata": {},
   "outputs": [
    {
     "data": {
      "text/plain": [
       "<matplotlib.axes._subplots.AxesSubplot at 0x1a2e6b6be0>"
      ]
     },
     "execution_count": 15,
     "metadata": {},
     "output_type": "execute_result"
    },
    {
     "data": {
      "image/png": "[encoded data removed]",
      "text/plain": [
       "<matplotlib.figure.Figure at 0x1a1daa0c50>"
      ]
     },
     "metadata": {},
     "output_type": "display_data"
    }
   ],
   "source": [
    "#Get a value count of downgrades by Category and create a pandas series that shows the top 10 categories with downgrades\n",
    "category_downgrade = downgrade['Category Name'].value_counts()\n",
    "category_downgrade10 = category_downgrade[:10]\n",
    "\n",
    "#Create a bar graph of downgrade counts by Restaurant category\n",
    "my_colors = 'rgbkymc'\n",
    "category_downgrade10.plot(\n",
    "                        kind='bar',\n",
    "                        color=my_colors,\n",
    "                        title='Downgrades by category')"
   ]
  },
  {
   "cell_type": "code",
   "execution_count": 16,
   "metadata": {},
   "outputs": [
    {
     "data": {
      "text/plain": [
       "<matplotlib.axes._subplots.AxesSubplot at 0x1a176075f8>"
      ]
     },
     "execution_count": 16,
     "metadata": {},
     "output_type": "execute_result"
    },
    {
     "data": {
      "image/png": "[encoded data removed]",
      "text/plain": [
       "<matplotlib.figure.Figure at 0x1a2e399cc0>"
      ]
     },
     "metadata": {},
     "output_type": "display_data"
    }
   ],
   "source": [
    "#Remove the 'Restaurant' Category from the dataset \n",
    "category_downgrade9 = category_downgrade[1:10]\n",
    "\n",
    "#Create a bar graph of downgrade counts by Restaurant category\n",
    "my_colors = 'rgbkymc'\n",
    "category_downgrade9.plot(\n",
    "                        kind='bar',\n",
    "                        color=my_colors,\n",
    "                        title='Downgrades by category')"
   ]
  },
  {
   "cell_type": "markdown",
   "metadata": {},
   "source": [
    "### 4.) Downgrades by Zip Code ###\n",
    "Looking at the graph of the value counts of downgrades for each zip code, the zip code with the highest count of downgrades is 89109.  The zip code 89109 is where the Las Vegas Strip is located.  This zip code is where all the casinos and hotels are located, this zip code is the major draw for Las Vegas tourists.  This graph makes sense as this zip code is densely populated with restaurants.  "
   ]
  },
  {
   "cell_type": "code",
   "execution_count": 17,
   "metadata": {},
   "outputs": [
    {
     "data": {
      "text/plain": [
       "<matplotlib.axes._subplots.AxesSubplot at 0x1a2e2c6e10>"
      ]
     },
     "execution_count": 17,
     "metadata": {},
     "output_type": "execute_result"
    },
    {
     "data": {
      "image/png": "[encoded data removed]",
      "text/plain": [
       "<matplotlib.figure.Figure at 0x1a1db63e80>"
      ]
     },
     "metadata": {},
     "output_type": "display_data"
    }
   ],
   "source": [
    "#Get a value count of downgrades by Zip Code and create a pandas series that shows the top 10 zip codes with downgrades\n",
    "zip_downgrade = downgrade['Zip'].value_counts()\n",
    "zip_downgrade10 = zip_downgrade[:10]\n",
    "\n",
    "#Create a bar graph of the downgrade counts by zip code\n",
    "my_colors = 'rgbkymc'\n",
    "zip_downgrade10.plot(\n",
    "                     kind='bar',\n",
    "                     color=my_colors,\n",
    "                     title='Downgrades by Zip Code')"
   ]
  },
  {
   "cell_type": "markdown",
   "metadata": {},
   "source": [
    "### 5.) Downgrades by Year, Month, and Hour ###\n",
    "The year 2012 has the most downgrades, March has the most downgrades, and 1pm has the most downgrades"
   ]
  },
  {
   "cell_type": "code",
   "execution_count": 81,
   "metadata": {},
   "outputs": [
    {
     "data": {
      "text/plain": [
       "<matplotlib.axes._subplots.AxesSubplot at 0x1a177ec198>"
      ]
     },
     "execution_count": 81,
     "metadata": {},
     "output_type": "execute_result"
    },
    {
     "data": {
      "image/png": "[encoded data removed]",
      "text/plain": [
       "<matplotlib.figure.Figure at 0x1a1eeea550>"
      ]
     },
     "metadata": {},
     "output_type": "display_data"
    }
   ],
   "source": [
    "#Get a value count of downgrades by Year and create a pandas series \n",
    "year_downgrade = downgrade['Year'].value_counts()\n",
    "year_downgrade = year_downgrade.sort_index(axis=0, ascending=True)\n",
    "year_downgrade = year_downgrade[2010.000:]\n",
    "\n",
    "#Create a bar graph of downgrade counts by Year\n",
    "my_colors = 'rgbkymc'\n",
    "year_downgrade.plot(\n",
    "                    kind='bar',\n",
    "                    color=my_colors,\n",
    "                    title='Downgrades by Year')"
   ]
  },
  {
   "cell_type": "code",
   "execution_count": 20,
   "metadata": {},
   "outputs": [
    {
     "data": {
      "text/plain": [
       "<matplotlib.axes._subplots.AxesSubplot at 0x1a17624470>"
      ]
     },
     "execution_count": 20,
     "metadata": {},
     "output_type": "execute_result"
    },
    {
     "data": {
      "image/png": "[encoded data removed]",
      "text/plain": [
       "<matplotlib.figure.Figure at 0x1a176a50f0>"
      ]
     },
     "metadata": {},
     "output_type": "display_data"
    }
   ],
   "source": [
    "#Get a value count of downgrades by Month and create a pandas series \n",
    "month_downgrade = downgrade['Month'].value_counts()\n",
    "month_downgrade = month_downgrade.sort_index(axis=0, ascending=True)\n",
    "\n",
    "#Create a bar graph of downgrade counts by Month\n",
    "my_colors = 'rgbkymc'\n",
    "month_downgrade.plot(\n",
    "                    kind='bar',\n",
    "                    color=my_colors,\n",
    "                    title='Downgrades by Month')"
   ]
  },
  {
   "cell_type": "code",
   "execution_count": 21,
   "metadata": {},
   "outputs": [
    {
     "data": {
      "text/plain": [
       "<matplotlib.axes._subplots.AxesSubplot at 0x1a1df1d2b0>"
      ]
     },
     "execution_count": 21,
     "metadata": {},
     "output_type": "execute_result"
    },
    {
     "data": {
      "image/png": "[encoded data removed]",
      "text/plain": [
       "<matplotlib.figure.Figure at 0x1a1df07780>"
      ]
     },
     "metadata": {},
     "output_type": "display_data"
    }
   ],
   "source": [
    "#Get a value count of downgrades by Hour and create a pandas series \n",
    "hour_downgrade = downgrade['Hour'].value_counts()\n",
    "hour_downgrade = hour_downgrade.sort_index(axis=0, ascending=True)\n",
    "\n",
    "#Create a bar graph of downgrade counts by Hour\n",
    "my_colors = 'rgbkymc'\n",
    "hour_downgrade.plot(\n",
    "                    kind='bar',\n",
    "                    color=my_colors,\n",
    "                    title='Downgrades by Hour')"
   ]
  },
  {
   "cell_type": "markdown",
   "metadata": {},
   "source": [
    "### 2. Feature Engineering: Cumulative Count of Downgrades ###\n",
    "I created a column that has a cumulative count of downgrades for each restaurant.  The column will show the number of past downgrades that a restaurant has accumulated.  I did this by creating a lambda function that conducts a cumulative sum for each restaurant for every downgrade that occurs.  Looking at the mean cumulative count for resstaurants who do not receive a downgrade after an inspection and the mean cumulative count for restaurants who did receive a downgrade after an inspection it looks like there is a significant difference in the means."
   ]
  },
  {
   "cell_type": "code",
   "execution_count": 22,
   "metadata": {
    "collapsed": true
   },
   "outputs": [],
   "source": [
    "#Sort the restaurant data so that the oldest inspection date is at the top\n",
    "inspectdate_sort = restaurant.sort_values('Inspection Date', ascending=True)\n",
    "\n",
    "#Create a Cumulative count column that keeps a count a restaurant's past downgrades\n",
    "inspectdate_sort[\"Cum_Count\"] = inspectdate_sort.groupby(['Restaurant Name'])['Downgrade'].apply(lambda x: x.cumsum())"
   ]
  },
  {
   "cell_type": "code",
   "execution_count": 23,
   "metadata": {},
   "outputs": [
    {
     "data": {
      "text/html": [
       "<div>\n",
       "<style>\n",
       "    .dataframe thead tr:only-child th {\n",
       "        text-align: right;\n",
       "    }\n",
       "\n",
       "    .dataframe thead th {\n",
       "        text-align: left;\n",
       "    }\n",
       "\n",
       "    .dataframe tbody tr th {\n",
       "        vertical-align: top;\n",
       "    }\n",
       "</style>\n",
       "<table border=\"1\" class=\"dataframe\">\n",
       "  <thead>\n",
       "    <tr style=\"text-align: right;\">\n",
       "      <th></th>\n",
       "      <th>Serial Number</th>\n",
       "      <th>Permit Number</th>\n",
       "      <th>Restaurant Name</th>\n",
       "      <th>Location Name</th>\n",
       "      <th>Category Name</th>\n",
       "      <th>Address</th>\n",
       "      <th>City</th>\n",
       "      <th>State</th>\n",
       "      <th>Zip</th>\n",
       "      <th>Current Demerits</th>\n",
       "      <th>...</th>\n",
       "      <th>Permit Status</th>\n",
       "      <th>Inspection Result</th>\n",
       "      <th>Violations</th>\n",
       "      <th>Record Updated</th>\n",
       "      <th>Location 1</th>\n",
       "      <th>Downgrade</th>\n",
       "      <th>Year</th>\n",
       "      <th>Month</th>\n",
       "      <th>Hour</th>\n",
       "      <th>Cum_Count</th>\n",
       "    </tr>\n",
       "  </thead>\n",
       "  <tbody>\n",
       "    <tr>\n",
       "      <th>38485</th>\n",
       "      <td>DA0359184</td>\n",
       "      <td>PR0008406</td>\n",
       "      <td>Memphis Championship Bar B Que</td>\n",
       "      <td>Memphis Championship Bar B Que</td>\n",
       "      <td>Restaurant</td>\n",
       "      <td>4379 N Las Vegas Blvd</td>\n",
       "      <td>Las Vegas</td>\n",
       "      <td>Nevada</td>\n",
       "      <td>89115-0640</td>\n",
       "      <td>0</td>\n",
       "      <td>...</td>\n",
       "      <td>NaN</td>\n",
       "      <td>Compliant</td>\n",
       "      <td>31,32,35,36,37</td>\n",
       "      <td>02/21/2013 10:26:12 PM</td>\n",
       "      <td>(36.23975, 115.0566759)</td>\n",
       "      <td>0</td>\n",
       "      <td>2010.000</td>\n",
       "      <td>2.000</td>\n",
       "      <td>10.000</td>\n",
       "      <td>0.000</td>\n",
       "    </tr>\n",
       "    <tr>\n",
       "      <th>56287</th>\n",
       "      <td>DA0822836</td>\n",
       "      <td>PR0008406</td>\n",
       "      <td>Memphis Championship Bar B Que</td>\n",
       "      <td>Memphis Championship Bar B Que</td>\n",
       "      <td>Restaurant</td>\n",
       "      <td>4379 N Las Vegas Blvd</td>\n",
       "      <td>Las Vegas</td>\n",
       "      <td>Nevada</td>\n",
       "      <td>89115-0640</td>\n",
       "      <td>0</td>\n",
       "      <td>...</td>\n",
       "      <td>NaN</td>\n",
       "      <td>'C' Downgrade</td>\n",
       "      <td>209,211,214,216,217,218,223,225,227,230,232,233</td>\n",
       "      <td>02/21/2013 10:26:12 PM</td>\n",
       "      <td>(36.23975, 115.0566759)</td>\n",
       "      <td>1</td>\n",
       "      <td>2011.000</td>\n",
       "      <td>6.000</td>\n",
       "      <td>12.000</td>\n",
       "      <td>1.000</td>\n",
       "    </tr>\n",
       "    <tr>\n",
       "      <th>58097</th>\n",
       "      <td>DA0840084</td>\n",
       "      <td>PR0008406</td>\n",
       "      <td>Memphis Championship Bar B Que</td>\n",
       "      <td>Memphis Championship Bar B Que</td>\n",
       "      <td>Restaurant</td>\n",
       "      <td>4379 N Las Vegas Blvd</td>\n",
       "      <td>Las Vegas</td>\n",
       "      <td>Nevada</td>\n",
       "      <td>89115-0640</td>\n",
       "      <td>0</td>\n",
       "      <td>...</td>\n",
       "      <td>NaN</td>\n",
       "      <td>Compliant</td>\n",
       "      <td>NaN</td>\n",
       "      <td>02/21/2013 10:26:12 PM</td>\n",
       "      <td>(36.23975, 115.0566759)</td>\n",
       "      <td>0</td>\n",
       "      <td>2011.000</td>\n",
       "      <td>7.000</td>\n",
       "      <td>11.000</td>\n",
       "      <td>1.000</td>\n",
       "    </tr>\n",
       "    <tr>\n",
       "      <th>65789</th>\n",
       "      <td>DA0924504</td>\n",
       "      <td>PR0008406</td>\n",
       "      <td>Memphis Championship Bar B Que</td>\n",
       "      <td>Memphis Championship Bar B Que</td>\n",
       "      <td>Restaurant</td>\n",
       "      <td>4379 N Las Vegas Blvd</td>\n",
       "      <td>Las Vegas</td>\n",
       "      <td>Nevada</td>\n",
       "      <td>89115-0640</td>\n",
       "      <td>0</td>\n",
       "      <td>...</td>\n",
       "      <td>NaN</td>\n",
       "      <td>'C' Downgrade</td>\n",
       "      <td>208,209,213,214,217,218,220,221,228,230,233</td>\n",
       "      <td>02/21/2013 10:26:12 PM</td>\n",
       "      <td>(36.23975, 115.0566759)</td>\n",
       "      <td>1</td>\n",
       "      <td>2012.000</td>\n",
       "      <td>1.000</td>\n",
       "      <td>13.000</td>\n",
       "      <td>2.000</td>\n",
       "    </tr>\n",
       "    <tr>\n",
       "      <th>66007</th>\n",
       "      <td>DA0926680</td>\n",
       "      <td>PR0008406</td>\n",
       "      <td>Memphis Championship Bar B Que</td>\n",
       "      <td>Memphis Championship Bar B Que</td>\n",
       "      <td>Restaurant</td>\n",
       "      <td>4379 N Las Vegas Blvd</td>\n",
       "      <td>Las Vegas</td>\n",
       "      <td>Nevada</td>\n",
       "      <td>89115-0640</td>\n",
       "      <td>0</td>\n",
       "      <td>...</td>\n",
       "      <td>NaN</td>\n",
       "      <td>Compliant</td>\n",
       "      <td>NaN</td>\n",
       "      <td>02/21/2013 10:26:12 PM</td>\n",
       "      <td>(36.23975, 115.0566759)</td>\n",
       "      <td>0</td>\n",
       "      <td>2012.000</td>\n",
       "      <td>1.000</td>\n",
       "      <td>14.000</td>\n",
       "      <td>2.000</td>\n",
       "    </tr>\n",
       "    <tr>\n",
       "      <th>89528</th>\n",
       "      <td>DA1066228</td>\n",
       "      <td>PR0008406</td>\n",
       "      <td>Memphis Championship Bar B Que</td>\n",
       "      <td>Memphis Championship Bar B Que</td>\n",
       "      <td>Restaurant</td>\n",
       "      <td>4379 N Las Vegas Blvd</td>\n",
       "      <td>Las Vegas</td>\n",
       "      <td>Nevada</td>\n",
       "      <td>89115-0640</td>\n",
       "      <td>0</td>\n",
       "      <td>...</td>\n",
       "      <td>NaN</td>\n",
       "      <td>Compliant</td>\n",
       "      <td>202</td>\n",
       "      <td>04/25/2013 03:44:31 PM</td>\n",
       "      <td>(36.23975, 115.0566759)</td>\n",
       "      <td>0</td>\n",
       "      <td>2013.000</td>\n",
       "      <td>4.000</td>\n",
       "      <td>11.000</td>\n",
       "      <td>2.000</td>\n",
       "    </tr>\n",
       "    <tr>\n",
       "      <th>100517</th>\n",
       "      <td>DA1121361</td>\n",
       "      <td>PR0008406</td>\n",
       "      <td>Memphis Championship Bar B Que</td>\n",
       "      <td>Memphis Championship Bar B Que</td>\n",
       "      <td>Restaurant</td>\n",
       "      <td>4379 N Las Vegas Blvd</td>\n",
       "      <td>Las Vegas</td>\n",
       "      <td>Nevada</td>\n",
       "      <td>89115-0640</td>\n",
       "      <td>0</td>\n",
       "      <td>...</td>\n",
       "      <td>NaN</td>\n",
       "      <td>Compliant</td>\n",
       "      <td>2928,2930</td>\n",
       "      <td>11/26/2013 09:41:14 AM</td>\n",
       "      <td>(36.23975, 115.0566759)</td>\n",
       "      <td>0</td>\n",
       "      <td>2013.000</td>\n",
       "      <td>11.000</td>\n",
       "      <td>10.000</td>\n",
       "      <td>2.000</td>\n",
       "    </tr>\n",
       "    <tr>\n",
       "      <th>111965</th>\n",
       "      <td>DA1170383</td>\n",
       "      <td>PR0008406</td>\n",
       "      <td>Memphis Championship Bar B Que</td>\n",
       "      <td>Memphis Championship Bar B Que</td>\n",
       "      <td>Restaurant</td>\n",
       "      <td>4379 N Las Vegas Blvd</td>\n",
       "      <td>Las Vegas</td>\n",
       "      <td>Nevada</td>\n",
       "      <td>89115-0640</td>\n",
       "      <td>0</td>\n",
       "      <td>...</td>\n",
       "      <td>NaN</td>\n",
       "      <td>Compliant</td>\n",
       "      <td>215,216,2928,2930,2955</td>\n",
       "      <td>06/13/2014 12:41:51 PM</td>\n",
       "      <td>(36.23975, 115.0566759)</td>\n",
       "      <td>0</td>\n",
       "      <td>2014.000</td>\n",
       "      <td>6.000</td>\n",
       "      <td>13.000</td>\n",
       "      <td>2.000</td>\n",
       "    </tr>\n",
       "    <tr>\n",
       "      <th>127165</th>\n",
       "      <td>DA1494582</td>\n",
       "      <td>PR0008406</td>\n",
       "      <td>Memphis Championship Bar B Que</td>\n",
       "      <td>Memphis Championship Bar B Que</td>\n",
       "      <td>Restaurant</td>\n",
       "      <td>4379 N Las Vegas Blvd</td>\n",
       "      <td>Las Vegas</td>\n",
       "      <td>Nevada</td>\n",
       "      <td>89115-0640</td>\n",
       "      <td>0</td>\n",
       "      <td>...</td>\n",
       "      <td>NaN</td>\n",
       "      <td>'B' Downgrade</td>\n",
       "      <td>207,215,216,218,2912,2928,2930,2955</td>\n",
       "      <td>04/14/2015 09:32:37 AM</td>\n",
       "      <td>(36.23975, 115.0566759)</td>\n",
       "      <td>1</td>\n",
       "      <td>2015.000</td>\n",
       "      <td>4.000</td>\n",
       "      <td>11.000</td>\n",
       "      <td>3.000</td>\n",
       "    </tr>\n",
       "    <tr>\n",
       "      <th>127930</th>\n",
       "      <td>DA1500445</td>\n",
       "      <td>PR0008406</td>\n",
       "      <td>Memphis Championship Bar B Que</td>\n",
       "      <td>Memphis Championship Bar B Que</td>\n",
       "      <td>Restaurant</td>\n",
       "      <td>4379 N Las Vegas Blvd</td>\n",
       "      <td>Las Vegas</td>\n",
       "      <td>Nevada</td>\n",
       "      <td>89115-0640</td>\n",
       "      <td>0</td>\n",
       "      <td>...</td>\n",
       "      <td>NaN</td>\n",
       "      <td>Compliant</td>\n",
       "      <td>2909,2925</td>\n",
       "      <td>04/28/2015 03:26:00 PM</td>\n",
       "      <td>(36.23975, 115.0566759)</td>\n",
       "      <td>0</td>\n",
       "      <td>2015.000</td>\n",
       "      <td>4.000</td>\n",
       "      <td>10.000</td>\n",
       "      <td>3.000</td>\n",
       "    </tr>\n",
       "    <tr>\n",
       "      <th>145474</th>\n",
       "      <td>DA1659898</td>\n",
       "      <td>PR0008406</td>\n",
       "      <td>Memphis Championship Bar B Que</td>\n",
       "      <td>Memphis Championship Bar B Que</td>\n",
       "      <td>Restaurant</td>\n",
       "      <td>4379 N Las Vegas Blvd</td>\n",
       "      <td>Las Vegas</td>\n",
       "      <td>Nevada</td>\n",
       "      <td>89115-0640</td>\n",
       "      <td>0</td>\n",
       "      <td>...</td>\n",
       "      <td>NaN</td>\n",
       "      <td>'B' Downgrade</td>\n",
       "      <td>NaN</td>\n",
       "      <td>03/14/2016 03:54:02 PM</td>\n",
       "      <td>(36.23975, 115.0566759)</td>\n",
       "      <td>1</td>\n",
       "      <td>2016.000</td>\n",
       "      <td>3.000</td>\n",
       "      <td>13.000</td>\n",
       "      <td>4.000</td>\n",
       "    </tr>\n",
       "    <tr>\n",
       "      <th>146495</th>\n",
       "      <td>DA1664746</td>\n",
       "      <td>PR0008406</td>\n",
       "      <td>Memphis Championship Bar B Que</td>\n",
       "      <td>Memphis Championship Bar B Que</td>\n",
       "      <td>Restaurant</td>\n",
       "      <td>4379 N Las Vegas Blvd</td>\n",
       "      <td>Las Vegas</td>\n",
       "      <td>Nevada</td>\n",
       "      <td>89115-0640</td>\n",
       "      <td>0</td>\n",
       "      <td>...</td>\n",
       "      <td>NaN</td>\n",
       "      <td>Compliant</td>\n",
       "      <td>212,2927,2930</td>\n",
       "      <td>03/29/2016 04:03:33 PM</td>\n",
       "      <td>(36.23975, 115.0566759)</td>\n",
       "      <td>0</td>\n",
       "      <td>2016.000</td>\n",
       "      <td>3.000</td>\n",
       "      <td>15.000</td>\n",
       "      <td>4.000</td>\n",
       "    </tr>\n",
       "    <tr>\n",
       "      <th>151914</th>\n",
       "      <td>DACWBX890</td>\n",
       "      <td>PR0008406</td>\n",
       "      <td>Memphis Championship Bar B Que</td>\n",
       "      <td>Memphis Championship Bar B Que</td>\n",
       "      <td>Restaurant</td>\n",
       "      <td>4379 N Las Vegas Blvd</td>\n",
       "      <td>Las Vegas</td>\n",
       "      <td>Nevada</td>\n",
       "      <td>89115-0640</td>\n",
       "      <td>0</td>\n",
       "      <td>...</td>\n",
       "      <td>NaN</td>\n",
       "      <td>'B' Downgrade</td>\n",
       "      <td>202,209,211,217,2928,2930,2955</td>\n",
       "      <td>09/27/2016 04:06:33 PM</td>\n",
       "      <td>(36.23975, 115.0566759)</td>\n",
       "      <td>1</td>\n",
       "      <td>2016.000</td>\n",
       "      <td>9.000</td>\n",
       "      <td>12.000</td>\n",
       "      <td>5.000</td>\n",
       "    </tr>\n",
       "    <tr>\n",
       "      <th>150819</th>\n",
       "      <td>DA1736870</td>\n",
       "      <td>PR0008406</td>\n",
       "      <td>Memphis Championship Bar B Que</td>\n",
       "      <td>Memphis Championship Bar B Que</td>\n",
       "      <td>Restaurant</td>\n",
       "      <td>4379 N Las Vegas Blvd</td>\n",
       "      <td>Las Vegas</td>\n",
       "      <td>Nevada</td>\n",
       "      <td>89115-0640</td>\n",
       "      <td>0</td>\n",
       "      <td>...</td>\n",
       "      <td>NaN</td>\n",
       "      <td>'B' Downgrade</td>\n",
       "      <td>NaN</td>\n",
       "      <td>09/28/2016 10:51:01 AM</td>\n",
       "      <td>(36.23975, 115.0566759)</td>\n",
       "      <td>1</td>\n",
       "      <td>2016.000</td>\n",
       "      <td>9.000</td>\n",
       "      <td>11.000</td>\n",
       "      <td>6.000</td>\n",
       "    </tr>\n",
       "    <tr>\n",
       "      <th>150818</th>\n",
       "      <td>DA1736869</td>\n",
       "      <td>PR0008406</td>\n",
       "      <td>Memphis Championship Bar B Que</td>\n",
       "      <td>Memphis Championship Bar B Que</td>\n",
       "      <td>Restaurant</td>\n",
       "      <td>4379 N Las Vegas Blvd</td>\n",
       "      <td>Las Vegas</td>\n",
       "      <td>Nevada</td>\n",
       "      <td>89115-0640</td>\n",
       "      <td>0</td>\n",
       "      <td>...</td>\n",
       "      <td>NaN</td>\n",
       "      <td>'B' Downgrade</td>\n",
       "      <td>NaN</td>\n",
       "      <td>09/28/2016 10:48:12 AM</td>\n",
       "      <td>(36.23975, 115.0566759)</td>\n",
       "      <td>1</td>\n",
       "      <td>nan</td>\n",
       "      <td>nan</td>\n",
       "      <td>nan</td>\n",
       "      <td>7.000</td>\n",
       "    </tr>\n",
       "    <tr>\n",
       "      <th>156372</th>\n",
       "      <td>DAQM7D9HP</td>\n",
       "      <td>PR0008406</td>\n",
       "      <td>Memphis Championship Bar B Que</td>\n",
       "      <td>Memphis Championship Bar B Que</td>\n",
       "      <td>Restaurant</td>\n",
       "      <td>4379 N Las Vegas Blvd</td>\n",
       "      <td>Las Vegas</td>\n",
       "      <td>Nevada</td>\n",
       "      <td>89115-0640</td>\n",
       "      <td>0</td>\n",
       "      <td>...</td>\n",
       "      <td>A</td>\n",
       "      <td>'A' Grade</td>\n",
       "      <td>212,2955</td>\n",
       "      <td>10/11/2016 02:21:22 PM</td>\n",
       "      <td>(36.23975, 115.0566759)</td>\n",
       "      <td>0</td>\n",
       "      <td>2016.000</td>\n",
       "      <td>10.000</td>\n",
       "      <td>13.000</td>\n",
       "      <td>7.000</td>\n",
       "    </tr>\n",
       "    <tr>\n",
       "      <th>7548</th>\n",
       "      <td>DA1767923</td>\n",
       "      <td>PR0008406</td>\n",
       "      <td>Memphis Championship Bar B Que</td>\n",
       "      <td>Memphis Championship Bar B Que</td>\n",
       "      <td>Restaurant</td>\n",
       "      <td>4379 N Las Vegas Blvd</td>\n",
       "      <td>Las Vegas</td>\n",
       "      <td>Nevada</td>\n",
       "      <td>89115-0640</td>\n",
       "      <td>0</td>\n",
       "      <td>...</td>\n",
       "      <td>C</td>\n",
       "      <td>'C' Downgrade</td>\n",
       "      <td>202,208,209,211,212,213,216,2912,2928,2930,2955</td>\n",
       "      <td>02/17/2017 09:04:07 AM</td>\n",
       "      <td>(36.23975, 115.0566759)</td>\n",
       "      <td>1</td>\n",
       "      <td>2017.000</td>\n",
       "      <td>2.000</td>\n",
       "      <td>12.000</td>\n",
       "      <td>8.000</td>\n",
       "    </tr>\n",
       "    <tr>\n",
       "      <th>2421</th>\n",
       "      <td>DANJQTD6J</td>\n",
       "      <td>PR0008406</td>\n",
       "      <td>Memphis Championship Bar B Que</td>\n",
       "      <td>Memphis Championship Bar B Que</td>\n",
       "      <td>Restaurant</td>\n",
       "      <td>4379 N Las Vegas Blvd</td>\n",
       "      <td>Las Vegas</td>\n",
       "      <td>Nevada</td>\n",
       "      <td>89115-0640</td>\n",
       "      <td>0</td>\n",
       "      <td>...</td>\n",
       "      <td>A</td>\n",
       "      <td>'A' Grade</td>\n",
       "      <td>NaN</td>\n",
       "      <td>03/24/2017 02:35:01 PM</td>\n",
       "      <td>(36.23975, 115.0566759)</td>\n",
       "      <td>0</td>\n",
       "      <td>2017.000</td>\n",
       "      <td>3.000</td>\n",
       "      <td>12.000</td>\n",
       "      <td>8.000</td>\n",
       "    </tr>\n",
       "    <tr>\n",
       "      <th>20489</th>\n",
       "      <td>DAM8BCGEG</td>\n",
       "      <td>PR0008406</td>\n",
       "      <td>Memphis Championship Bar B Que</td>\n",
       "      <td>Memphis Championship Bar B Que</td>\n",
       "      <td>Restaurant</td>\n",
       "      <td>4379 N Las Vegas Blvd</td>\n",
       "      <td>Las Vegas</td>\n",
       "      <td>Nevada</td>\n",
       "      <td>89115-0640</td>\n",
       "      <td>0</td>\n",
       "      <td>...</td>\n",
       "      <td>B</td>\n",
       "      <td>'B' Downgrade</td>\n",
       "      <td>209,211,217,2927,2928,2930,2955</td>\n",
       "      <td>05/25/2017 02:45:19 PM</td>\n",
       "      <td>(36.23975, 115.0566759)</td>\n",
       "      <td>1</td>\n",
       "      <td>2017.000</td>\n",
       "      <td>5.000</td>\n",
       "      <td>12.000</td>\n",
       "      <td>9.000</td>\n",
       "    </tr>\n",
       "    <tr>\n",
       "      <th>14029</th>\n",
       "      <td>DAZTLJ0KG</td>\n",
       "      <td>PR0008406</td>\n",
       "      <td>Memphis Championship Bar B Que</td>\n",
       "      <td>Memphis Championship Bar B Que</td>\n",
       "      <td>Restaurant</td>\n",
       "      <td>4379 N Las Vegas Blvd</td>\n",
       "      <td>Las Vegas</td>\n",
       "      <td>Nevada</td>\n",
       "      <td>89115-0640</td>\n",
       "      <td>0</td>\n",
       "      <td>...</td>\n",
       "      <td>A</td>\n",
       "      <td>'A' Grade</td>\n",
       "      <td>NaN</td>\n",
       "      <td>05/26/2017 11:34:12 AM</td>\n",
       "      <td>(36.23975, 115.0566759)</td>\n",
       "      <td>0</td>\n",
       "      <td>2017.000</td>\n",
       "      <td>5.000</td>\n",
       "      <td>10.000</td>\n",
       "      <td>9.000</td>\n",
       "    </tr>\n",
       "    <tr>\n",
       "      <th>23047</th>\n",
       "      <td>DAFG51HIH</td>\n",
       "      <td>PR0008406</td>\n",
       "      <td>Memphis Championship Bar B Que</td>\n",
       "      <td>Memphis Championship Bar B Que</td>\n",
       "      <td>Restaurant</td>\n",
       "      <td>4379 N Las Vegas Blvd</td>\n",
       "      <td>Las Vegas</td>\n",
       "      <td>Nevada</td>\n",
       "      <td>89115-0640</td>\n",
       "      <td>24</td>\n",
       "      <td>...</td>\n",
       "      <td>NaN</td>\n",
       "      <td>'C' Downgrade</td>\n",
       "      <td>202,206,207,211,216,2912,2927,2928,2930,2955</td>\n",
       "      <td>06/06/2018 02:14:55 PM</td>\n",
       "      <td>(36.23975, 115.0566759)</td>\n",
       "      <td>1</td>\n",
       "      <td>2018.000</td>\n",
       "      <td>6.000</td>\n",
       "      <td>10.000</td>\n",
       "      <td>10.000</td>\n",
       "    </tr>\n",
       "  </tbody>\n",
       "</table>\n",
       "<p>21 rows × 28 columns</p>\n",
       "</div>"
      ],
      "text/plain": [
       "       Serial Number Permit Number                 Restaurant Name  \\\n",
       "38485      DA0359184     PR0008406  Memphis Championship Bar B Que   \n",
       "56287      DA0822836     PR0008406  Memphis Championship Bar B Que   \n",
       "58097      DA0840084     PR0008406  Memphis Championship Bar B Que   \n",
       "65789      DA0924504     PR0008406  Memphis Championship Bar B Que   \n",
       "66007      DA0926680     PR0008406  Memphis Championship Bar B Que   \n",
       "89528      DA1066228     PR0008406  Memphis Championship Bar B Que   \n",
       "100517     DA1121361     PR0008406  Memphis Championship Bar B Que   \n",
       "111965     DA1170383     PR0008406  Memphis Championship Bar B Que   \n",
       "127165     DA1494582     PR0008406  Memphis Championship Bar B Que   \n",
       "127930     DA1500445     PR0008406  Memphis Championship Bar B Que   \n",
       "145474     DA1659898     PR0008406  Memphis Championship Bar B Que   \n",
       "146495     DA1664746     PR0008406  Memphis Championship Bar B Que   \n",
       "151914     DACWBX890     PR0008406  Memphis Championship Bar B Que   \n",
       "150819     DA1736870     PR0008406  Memphis Championship Bar B Que   \n",
       "150818     DA1736869     PR0008406  Memphis Championship Bar B Que   \n",
       "156372     DAQM7D9HP     PR0008406  Memphis Championship Bar B Que   \n",
       "7548       DA1767923     PR0008406  Memphis Championship Bar B Que   \n",
       "2421       DANJQTD6J     PR0008406  Memphis Championship Bar B Que   \n",
       "20489      DAM8BCGEG     PR0008406  Memphis Championship Bar B Que   \n",
       "14029      DAZTLJ0KG     PR0008406  Memphis Championship Bar B Que   \n",
       "23047      DAFG51HIH     PR0008406  Memphis Championship Bar B Que   \n",
       "\n",
       "                         Location Name Category Name                Address  \\\n",
       "38485   Memphis Championship Bar B Que    Restaurant  4379 N Las Vegas Blvd   \n",
       "56287   Memphis Championship Bar B Que    Restaurant  4379 N Las Vegas Blvd   \n",
       "58097   Memphis Championship Bar B Que    Restaurant  4379 N Las Vegas Blvd   \n",
       "65789   Memphis Championship Bar B Que    Restaurant  4379 N Las Vegas Blvd   \n",
       "66007   Memphis Championship Bar B Que    Restaurant  4379 N Las Vegas Blvd   \n",
       "89528   Memphis Championship Bar B Que    Restaurant  4379 N Las Vegas Blvd   \n",
       "100517  Memphis Championship Bar B Que    Restaurant  4379 N Las Vegas Blvd   \n",
       "111965  Memphis Championship Bar B Que    Restaurant  4379 N Las Vegas Blvd   \n",
       "127165  Memphis Championship Bar B Que    Restaurant  4379 N Las Vegas Blvd   \n",
       "127930  Memphis Championship Bar B Que    Restaurant  4379 N Las Vegas Blvd   \n",
       "145474  Memphis Championship Bar B Que    Restaurant  4379 N Las Vegas Blvd   \n",
       "146495  Memphis Championship Bar B Que    Restaurant  4379 N Las Vegas Blvd   \n",
       "151914  Memphis Championship Bar B Que    Restaurant  4379 N Las Vegas Blvd   \n",
       "150819  Memphis Championship Bar B Que    Restaurant  4379 N Las Vegas Blvd   \n",
       "150818  Memphis Championship Bar B Que    Restaurant  4379 N Las Vegas Blvd   \n",
       "156372  Memphis Championship Bar B Que    Restaurant  4379 N Las Vegas Blvd   \n",
       "7548    Memphis Championship Bar B Que    Restaurant  4379 N Las Vegas Blvd   \n",
       "2421    Memphis Championship Bar B Que    Restaurant  4379 N Las Vegas Blvd   \n",
       "20489   Memphis Championship Bar B Que    Restaurant  4379 N Las Vegas Blvd   \n",
       "14029   Memphis Championship Bar B Que    Restaurant  4379 N Las Vegas Blvd   \n",
       "23047   Memphis Championship Bar B Que    Restaurant  4379 N Las Vegas Blvd   \n",
       "\n",
       "             City   State         Zip  Current Demerits    ...     \\\n",
       "38485   Las Vegas  Nevada  89115-0640                 0    ...      \n",
       "56287   Las Vegas  Nevada  89115-0640                 0    ...      \n",
       "58097   Las Vegas  Nevada  89115-0640                 0    ...      \n",
       "65789   Las Vegas  Nevada  89115-0640                 0    ...      \n",
       "66007   Las Vegas  Nevada  89115-0640                 0    ...      \n",
       "89528   Las Vegas  Nevada  89115-0640                 0    ...      \n",
       "100517  Las Vegas  Nevada  89115-0640                 0    ...      \n",
       "111965  Las Vegas  Nevada  89115-0640                 0    ...      \n",
       "127165  Las Vegas  Nevada  89115-0640                 0    ...      \n",
       "127930  Las Vegas  Nevada  89115-0640                 0    ...      \n",
       "145474  Las Vegas  Nevada  89115-0640                 0    ...      \n",
       "146495  Las Vegas  Nevada  89115-0640                 0    ...      \n",
       "151914  Las Vegas  Nevada  89115-0640                 0    ...      \n",
       "150819  Las Vegas  Nevada  89115-0640                 0    ...      \n",
       "150818  Las Vegas  Nevada  89115-0640                 0    ...      \n",
       "156372  Las Vegas  Nevada  89115-0640                 0    ...      \n",
       "7548    Las Vegas  Nevada  89115-0640                 0    ...      \n",
       "2421    Las Vegas  Nevada  89115-0640                 0    ...      \n",
       "20489   Las Vegas  Nevada  89115-0640                 0    ...      \n",
       "14029   Las Vegas  Nevada  89115-0640                 0    ...      \n",
       "23047   Las Vegas  Nevada  89115-0640                24    ...      \n",
       "\n",
       "       Permit Status Inspection Result  \\\n",
       "38485            NaN         Compliant   \n",
       "56287            NaN     'C' Downgrade   \n",
       "58097            NaN         Compliant   \n",
       "65789            NaN     'C' Downgrade   \n",
       "66007            NaN         Compliant   \n",
       "89528            NaN         Compliant   \n",
       "100517           NaN         Compliant   \n",
       "111965           NaN         Compliant   \n",
       "127165           NaN     'B' Downgrade   \n",
       "127930           NaN         Compliant   \n",
       "145474           NaN     'B' Downgrade   \n",
       "146495           NaN         Compliant   \n",
       "151914           NaN     'B' Downgrade   \n",
       "150819           NaN     'B' Downgrade   \n",
       "150818           NaN     'B' Downgrade   \n",
       "156372             A         'A' Grade   \n",
       "7548               C     'C' Downgrade   \n",
       "2421               A         'A' Grade   \n",
       "20489              B     'B' Downgrade   \n",
       "14029              A         'A' Grade   \n",
       "23047            NaN     'C' Downgrade   \n",
       "\n",
       "                                             Violations  \\\n",
       "38485                                    31,32,35,36,37   \n",
       "56287   209,211,214,216,217,218,223,225,227,230,232,233   \n",
       "58097                                               NaN   \n",
       "65789       208,209,213,214,217,218,220,221,228,230,233   \n",
       "66007                                               NaN   \n",
       "89528                                               202   \n",
       "100517                                        2928,2930   \n",
       "111965                           215,216,2928,2930,2955   \n",
       "127165              207,215,216,218,2912,2928,2930,2955   \n",
       "127930                                        2909,2925   \n",
       "145474                                              NaN   \n",
       "146495                                    212,2927,2930   \n",
       "151914                   202,209,211,217,2928,2930,2955   \n",
       "150819                                              NaN   \n",
       "150818                                              NaN   \n",
       "156372                                         212,2955   \n",
       "7548    202,208,209,211,212,213,216,2912,2928,2930,2955   \n",
       "2421                                                NaN   \n",
       "20489                   209,211,217,2927,2928,2930,2955   \n",
       "14029                                               NaN   \n",
       "23047      202,206,207,211,216,2912,2927,2928,2930,2955   \n",
       "\n",
       "                Record Updated               Location 1 Downgrade     Year  \\\n",
       "38485   02/21/2013 10:26:12 PM  (36.23975, 115.0566759)         0 2010.000   \n",
       "56287   02/21/2013 10:26:12 PM  (36.23975, 115.0566759)         1 2011.000   \n",
       "58097   02/21/2013 10:26:12 PM  (36.23975, 115.0566759)         0 2011.000   \n",
       "65789   02/21/2013 10:26:12 PM  (36.23975, 115.0566759)         1 2012.000   \n",
       "66007   02/21/2013 10:26:12 PM  (36.23975, 115.0566759)         0 2012.000   \n",
       "89528   04/25/2013 03:44:31 PM  (36.23975, 115.0566759)         0 2013.000   \n",
       "100517  11/26/2013 09:41:14 AM  (36.23975, 115.0566759)         0 2013.000   \n",
       "111965  06/13/2014 12:41:51 PM  (36.23975, 115.0566759)         0 2014.000   \n",
       "127165  04/14/2015 09:32:37 AM  (36.23975, 115.0566759)         1 2015.000   \n",
       "127930  04/28/2015 03:26:00 PM  (36.23975, 115.0566759)         0 2015.000   \n",
       "145474  03/14/2016 03:54:02 PM  (36.23975, 115.0566759)         1 2016.000   \n",
       "146495  03/29/2016 04:03:33 PM  (36.23975, 115.0566759)         0 2016.000   \n",
       "151914  09/27/2016 04:06:33 PM  (36.23975, 115.0566759)         1 2016.000   \n",
       "150819  09/28/2016 10:51:01 AM  (36.23975, 115.0566759)         1 2016.000   \n",
       "150818  09/28/2016 10:48:12 AM  (36.23975, 115.0566759)         1      nan   \n",
       "156372  10/11/2016 02:21:22 PM  (36.23975, 115.0566759)         0 2016.000   \n",
       "7548    02/17/2017 09:04:07 AM  (36.23975, 115.0566759)         1 2017.000   \n",
       "2421    03/24/2017 02:35:01 PM  (36.23975, 115.0566759)         0 2017.000   \n",
       "20489   05/25/2017 02:45:19 PM  (36.23975, 115.0566759)         1 2017.000   \n",
       "14029   05/26/2017 11:34:12 AM  (36.23975, 115.0566759)         0 2017.000   \n",
       "23047   06/06/2018 02:14:55 PM  (36.23975, 115.0566759)         1 2018.000   \n",
       "\n",
       "        Month   Hour Cum_Count  \n",
       "38485   2.000 10.000     0.000  \n",
       "56287   6.000 12.000     1.000  \n",
       "58097   7.000 11.000     1.000  \n",
       "65789   1.000 13.000     2.000  \n",
       "66007   1.000 14.000     2.000  \n",
       "89528   4.000 11.000     2.000  \n",
       "100517 11.000 10.000     2.000  \n",
       "111965  6.000 13.000     2.000  \n",
       "127165  4.000 11.000     3.000  \n",
       "127930  4.000 10.000     3.000  \n",
       "145474  3.000 13.000     4.000  \n",
       "146495  3.000 15.000     4.000  \n",
       "151914  9.000 12.000     5.000  \n",
       "150819  9.000 11.000     6.000  \n",
       "150818    nan    nan     7.000  \n",
       "156372 10.000 13.000     7.000  \n",
       "7548    2.000 12.000     8.000  \n",
       "2421    3.000 12.000     8.000  \n",
       "20489   5.000 12.000     9.000  \n",
       "14029   5.000 10.000     9.000  \n",
       "23047   6.000 10.000    10.000  \n",
       "\n",
       "[21 rows x 28 columns]"
      ]
     },
     "execution_count": 23,
     "metadata": {},
     "output_type": "execute_result"
    }
   ],
   "source": [
    "#Verify cumulative count worked by looking at a restaurant who has had a lot of downgrades\n",
    "inspectdate_sort[(inspectdate_sort['Restaurant Name'] == 'Memphis Championship Bar B Que')]"
   ]
  },
  {
   "cell_type": "code",
   "execution_count": 24,
   "metadata": {
    "collapsed": true
   },
   "outputs": [],
   "source": [
    "#Create datasets with restaurants who did not receive a downgrade and restaurants who did receive a downgrade\n",
    "\n",
    "no_downgradesort = inspectdate_sort[(inspectdate_sort['Downgrade']==0)]\n",
    "downgradesort = inspectdate_sort[(inspectdate_sort['Downgrade']==1)]"
   ]
  },
  {
   "cell_type": "code",
   "execution_count": 25,
   "metadata": {},
   "outputs": [
    {
     "data": {
      "text/plain": [
       "0.9692756571929155"
      ]
     },
     "execution_count": 25,
     "metadata": {},
     "output_type": "execute_result"
    }
   ],
   "source": [
    "no_downgradesort['Cum_Count'].mean()"
   ]
  },
  {
   "cell_type": "code",
   "execution_count": 26,
   "metadata": {},
   "outputs": [
    {
     "data": {
      "text/plain": [
       "3.089486469690978"
      ]
     },
     "execution_count": 26,
     "metadata": {},
     "output_type": "execute_result"
    }
   ],
   "source": [
    "downgradesort['Cum_Count'].mean()"
   ]
  },
  {
   "cell_type": "code",
   "execution_count": 27,
   "metadata": {},
   "outputs": [
    {
     "data": {
      "text/plain": [
       "<matplotlib.text.Text at 0x1a1e1f6320>"
      ]
     },
     "execution_count": 27,
     "metadata": {},
     "output_type": "execute_result"
    },
    {
     "data": {
      "image/png": "[encoded data removed]",
      "text/plain": [
       "<matplotlib.figure.Figure at 0x1a2ac23e10>"
      ]
     },
     "metadata": {},
     "output_type": "display_data"
    }
   ],
   "source": [
    "#Mean Bar graph of Cumulative Counts by Downgrade category\n",
    "sns.barplot(x=\"Downgrade\", y=\"Cum_Count\", data=inspectdate_sort)\n",
    "plt.title('Bar Graph of Cumulative Count of Downgrades')"
   ]
  },
  {
   "cell_type": "markdown",
   "metadata": {},
   "source": [
    "### Gradient Boosting Model ###\n",
    "I used a Gradient Boosting model to predict a downgrade after an inspection.  There are quite a bit of null values in the data so, I created a dataframe that does not have any nulls in cumulative counts column.  After that I created a feature dataset that includes:\n",
    "\n",
    "    1. Category Name\n",
    "    2. City\n",
    "    3. Zip Code\n",
    "    4. Current Demerits\n",
    "    5. Current Grade\n",
    "    6. Inspection Type\n",
    "    7. Cumulative Count\n",
    " \n",
    " Some of the variables are categorical variables, so I converted those variables into integer values by using the get dummies pandas method.  "
   ]
  },
  {
   "cell_type": "code",
   "execution_count": 28,
   "metadata": {
    "collapsed": true
   },
   "outputs": [],
   "source": [
    "#Create dataframe does not have any null values for \"Cum_Count\"\n",
    "inspectdate_sort = inspectdate_sort[pd.notnull(inspectdate_sort['Cum_Count'])]\n",
    "\n",
    "#Reset the index\n",
    "inspectdate_sort = inspectdate_sort.reset_index()"
   ]
  },
  {
   "cell_type": "code",
   "execution_count": 29,
   "metadata": {},
   "outputs": [
    {
     "name": "stdout",
     "output_type": "stream",
     "text": [
      "<class 'pandas.core.frame.DataFrame'>\n",
      "RangeIndex: 159250 entries, 0 to 159249\n",
      "Data columns (total 29 columns):\n",
      "index                  159250 non-null int64\n",
      "Serial Number          159250 non-null object\n",
      "Permit Number          159250 non-null object\n",
      "Restaurant Name        159250 non-null object\n",
      "Location Name          159240 non-null object\n",
      "Category Name          159250 non-null object\n",
      "Address                159187 non-null object\n",
      "City                   159232 non-null object\n",
      "State                  159250 non-null object\n",
      "Zip                    159231 non-null object\n",
      "Current Demerits       159250 non-null int64\n",
      "Current Grade          159222 non-null object\n",
      "Date Current           159250 non-null object\n",
      "Inspection Date        159250 non-null datetime64[ns]\n",
      "Inspection Time        159207 non-null datetime64[ns]\n",
      "Employee ID            159250 non-null object\n",
      "Inspection Type        159250 non-null object\n",
      "Inspection Demerits    159250 non-null int64\n",
      "Inspection Grade       157550 non-null object\n",
      "Permit Status          39644 non-null object\n",
      "Inspection Result      159250 non-null object\n",
      "Violations             122096 non-null object\n",
      "Record Updated         159250 non-null object\n",
      "Location 1             159250 non-null object\n",
      "Downgrade              159250 non-null int64\n",
      "Year                   159207 non-null float64\n",
      "Month                  159207 non-null float64\n",
      "Hour                   159207 non-null float64\n",
      "Cum_Count              159250 non-null float64\n",
      "dtypes: datetime64[ns](2), float64(4), int64(4), object(19)\n",
      "memory usage: 35.2+ MB\n"
     ]
    }
   ],
   "source": [
    "#Look at info to ensure that the number of non-null values match across the feature columns\n",
    "inspectdate_sort.info()"
   ]
  },
  {
   "cell_type": "code",
   "execution_count": 35,
   "metadata": {
    "collapsed": true
   },
   "outputs": [],
   "source": [
    "inspectdate_sort['Year'] = inspectdate_sort['Year'].astype('category')\n",
    "inspectdate_sort['Month'] = inspectdate_sort['Month'].astype('category')\n",
    "inspectdate_sort['Hour'] = inspectdate_sort['Hour'].astype('category')"
   ]
  },
  {
   "cell_type": "code",
   "execution_count": 30,
   "metadata": {
    "collapsed": true
   },
   "outputs": [],
   "source": [
    "#Create feature dataset \n",
    "X = inspectdate_sort[['Category Name', 'City', 'Zip', 'Current Demerits', 'Current Grade', 'Inspection Type', 'Cum_Count' ]]\n",
    "\n",
    "#Get numerical values for the categorical variables\n",
    "X = pd.get_dummies(X)"
   ]
  },
  {
   "cell_type": "code",
   "execution_count": 31,
   "metadata": {},
   "outputs": [
    {
     "data": {
      "text/html": [
       "<div>\n",
       "<style>\n",
       "    .dataframe thead tr:only-child th {\n",
       "        text-align: right;\n",
       "    }\n",
       "\n",
       "    .dataframe thead th {\n",
       "        text-align: left;\n",
       "    }\n",
       "\n",
       "    .dataframe tbody tr th {\n",
       "        vertical-align: top;\n",
       "    }\n",
       "</style>\n",
       "<table border=\"1\" class=\"dataframe\">\n",
       "  <thead>\n",
       "    <tr style=\"text-align: right;\">\n",
       "      <th></th>\n",
       "      <th>Current Demerits</th>\n",
       "      <th>Cum_Count</th>\n",
       "      <th>Category Name_Bakery Sales</th>\n",
       "      <th>Category Name_Banquet Kitchen</th>\n",
       "      <th>Category Name_Banquet Support</th>\n",
       "      <th>Category Name_Bar / Tavern</th>\n",
       "      <th>Category Name_Barbeque</th>\n",
       "      <th>Category Name_Beer Bar</th>\n",
       "      <th>Category Name_Buffet</th>\n",
       "      <th>Category Name_Caterer</th>\n",
       "      <th>...</th>\n",
       "      <th>Current Grade_A</th>\n",
       "      <th>Current Grade_B</th>\n",
       "      <th>Current Grade_C</th>\n",
       "      <th>Current Grade_N</th>\n",
       "      <th>Current Grade_O</th>\n",
       "      <th>Current Grade_X</th>\n",
       "      <th>Inspection Type_Epidemiological Investigation</th>\n",
       "      <th>Inspection Type_Re-inspection</th>\n",
       "      <th>Inspection Type_Routine Inspection</th>\n",
       "      <th>Inspection Type_Survey</th>\n",
       "    </tr>\n",
       "  </thead>\n",
       "  <tbody>\n",
       "    <tr>\n",
       "      <th>0</th>\n",
       "      <td>3</td>\n",
       "      <td>0.000</td>\n",
       "      <td>0</td>\n",
       "      <td>0</td>\n",
       "      <td>0</td>\n",
       "      <td>1</td>\n",
       "      <td>0</td>\n",
       "      <td>0</td>\n",
       "      <td>0</td>\n",
       "      <td>0</td>\n",
       "      <td>...</td>\n",
       "      <td>1</td>\n",
       "      <td>0</td>\n",
       "      <td>0</td>\n",
       "      <td>0</td>\n",
       "      <td>0</td>\n",
       "      <td>0</td>\n",
       "      <td>0</td>\n",
       "      <td>0</td>\n",
       "      <td>1</td>\n",
       "      <td>0</td>\n",
       "    </tr>\n",
       "    <tr>\n",
       "      <th>1</th>\n",
       "      <td>3</td>\n",
       "      <td>0.000</td>\n",
       "      <td>0</td>\n",
       "      <td>0</td>\n",
       "      <td>0</td>\n",
       "      <td>1</td>\n",
       "      <td>0</td>\n",
       "      <td>0</td>\n",
       "      <td>0</td>\n",
       "      <td>0</td>\n",
       "      <td>...</td>\n",
       "      <td>1</td>\n",
       "      <td>0</td>\n",
       "      <td>0</td>\n",
       "      <td>0</td>\n",
       "      <td>0</td>\n",
       "      <td>0</td>\n",
       "      <td>0</td>\n",
       "      <td>0</td>\n",
       "      <td>1</td>\n",
       "      <td>0</td>\n",
       "    </tr>\n",
       "    <tr>\n",
       "      <th>2</th>\n",
       "      <td>0</td>\n",
       "      <td>1.000</td>\n",
       "      <td>0</td>\n",
       "      <td>0</td>\n",
       "      <td>0</td>\n",
       "      <td>0</td>\n",
       "      <td>0</td>\n",
       "      <td>0</td>\n",
       "      <td>0</td>\n",
       "      <td>0</td>\n",
       "      <td>...</td>\n",
       "      <td>1</td>\n",
       "      <td>0</td>\n",
       "      <td>0</td>\n",
       "      <td>0</td>\n",
       "      <td>0</td>\n",
       "      <td>0</td>\n",
       "      <td>0</td>\n",
       "      <td>0</td>\n",
       "      <td>1</td>\n",
       "      <td>0</td>\n",
       "    </tr>\n",
       "    <tr>\n",
       "      <th>3</th>\n",
       "      <td>9</td>\n",
       "      <td>1.000</td>\n",
       "      <td>0</td>\n",
       "      <td>0</td>\n",
       "      <td>0</td>\n",
       "      <td>0</td>\n",
       "      <td>0</td>\n",
       "      <td>0</td>\n",
       "      <td>0</td>\n",
       "      <td>0</td>\n",
       "      <td>...</td>\n",
       "      <td>1</td>\n",
       "      <td>0</td>\n",
       "      <td>0</td>\n",
       "      <td>0</td>\n",
       "      <td>0</td>\n",
       "      <td>0</td>\n",
       "      <td>0</td>\n",
       "      <td>0</td>\n",
       "      <td>1</td>\n",
       "      <td>0</td>\n",
       "    </tr>\n",
       "    <tr>\n",
       "      <th>4</th>\n",
       "      <td>8</td>\n",
       "      <td>0.000</td>\n",
       "      <td>0</td>\n",
       "      <td>0</td>\n",
       "      <td>0</td>\n",
       "      <td>0</td>\n",
       "      <td>0</td>\n",
       "      <td>0</td>\n",
       "      <td>0</td>\n",
       "      <td>0</td>\n",
       "      <td>...</td>\n",
       "      <td>1</td>\n",
       "      <td>0</td>\n",
       "      <td>0</td>\n",
       "      <td>0</td>\n",
       "      <td>0</td>\n",
       "      <td>0</td>\n",
       "      <td>0</td>\n",
       "      <td>0</td>\n",
       "      <td>1</td>\n",
       "      <td>0</td>\n",
       "    </tr>\n",
       "  </tbody>\n",
       "</table>\n",
       "<p>5 rows × 3624 columns</p>\n",
       "</div>"
      ],
      "text/plain": [
       "   Current Demerits  Cum_Count  Category Name_Bakery Sales  \\\n",
       "0                 3      0.000                           0   \n",
       "1                 3      0.000                           0   \n",
       "2                 0      1.000                           0   \n",
       "3                 9      1.000                           0   \n",
       "4                 8      0.000                           0   \n",
       "\n",
       "   Category Name_Banquet Kitchen  Category Name_Banquet Support  \\\n",
       "0                              0                              0   \n",
       "1                              0                              0   \n",
       "2                              0                              0   \n",
       "3                              0                              0   \n",
       "4                              0                              0   \n",
       "\n",
       "   Category Name_Bar / Tavern  Category Name_Barbeque  Category Name_Beer Bar  \\\n",
       "0                           1                       0                       0   \n",
       "1                           1                       0                       0   \n",
       "2                           0                       0                       0   \n",
       "3                           0                       0                       0   \n",
       "4                           0                       0                       0   \n",
       "\n",
       "   Category Name_Buffet  Category Name_Caterer           ...            \\\n",
       "0                     0                      0           ...             \n",
       "1                     0                      0           ...             \n",
       "2                     0                      0           ...             \n",
       "3                     0                      0           ...             \n",
       "4                     0                      0           ...             \n",
       "\n",
       "   Current Grade_A  Current Grade_B  Current Grade_C  Current Grade_N  \\\n",
       "0                1                0                0                0   \n",
       "1                1                0                0                0   \n",
       "2                1                0                0                0   \n",
       "3                1                0                0                0   \n",
       "4                1                0                0                0   \n",
       "\n",
       "   Current Grade_O  Current Grade_X  \\\n",
       "0                0                0   \n",
       "1                0                0   \n",
       "2                0                0   \n",
       "3                0                0   \n",
       "4                0                0   \n",
       "\n",
       "   Inspection Type_Epidemiological Investigation  \\\n",
       "0                                              0   \n",
       "1                                              0   \n",
       "2                                              0   \n",
       "3                                              0   \n",
       "4                                              0   \n",
       "\n",
       "   Inspection Type_Re-inspection  Inspection Type_Routine Inspection  \\\n",
       "0                              0                                   1   \n",
       "1                              0                                   1   \n",
       "2                              0                                   1   \n",
       "3                              0                                   1   \n",
       "4                              0                                   1   \n",
       "\n",
       "   Inspection Type_Survey  \n",
       "0                       0  \n",
       "1                       0  \n",
       "2                       0  \n",
       "3                       0  \n",
       "4                       0  \n",
       "\n",
       "[5 rows x 3624 columns]"
      ]
     },
     "execution_count": 31,
     "metadata": {},
     "output_type": "execute_result"
    }
   ],
   "source": [
    "#Confirm get_dummies method worked correctly\n",
    "X.head()"
   ]
  },
  {
   "cell_type": "code",
   "execution_count": 32,
   "metadata": {
    "collapsed": true
   },
   "outputs": [],
   "source": [
    "#Create Target column\n",
    "Y = inspectdate_sort['Downgrade']\n",
    "\n",
    "from sklearn.model_selection import train_test_split\n",
    "\n",
    "# Use train_test_split to create the necessary training and test groups\n",
    "X_train, X_test, y_train, y_test = train_test_split(X, Y, test_size=0.2, random_state=20)"
   ]
  },
  {
   "cell_type": "code",
   "execution_count": 33,
   "metadata": {},
   "outputs": [
    {
     "data": {
      "text/plain": [
       "(127400, 3624)"
      ]
     },
     "execution_count": 33,
     "metadata": {},
     "output_type": "execute_result"
    }
   ],
   "source": [
    "X_train.shape "
   ]
  },
  {
   "cell_type": "code",
   "execution_count": 34,
   "metadata": {},
   "outputs": [
    {
     "name": "stderr",
     "output_type": "stream",
     "text": [
      "/Users/lorenzmadarang/anaconda3/lib/python3.6/site-packages/sklearn/feature_selection/univariate_selection.py:113: UserWarning: Features [  47  157  214  284  301  430  553  696  787 1025 1034 1086 1441 1564 1590\n",
      " 1702 1812 1817 2048 2124 2261 2425 2523 2524 2655 2856 3287 3557 3611] are constant.\n",
      "  UserWarning)\n",
      "/Users/lorenzmadarang/anaconda3/lib/python3.6/site-packages/sklearn/feature_selection/univariate_selection.py:114: RuntimeWarning: invalid value encountered in true_divide\n",
      "  f = msb / msw\n"
     ]
    },
    {
     "data": {
      "text/plain": [
       "SelectKBest(k=10, score_func=<function f_classif at 0x114136400>)"
      ]
     },
     "execution_count": 34,
     "metadata": {},
     "output_type": "execute_result"
    }
   ],
   "source": [
    "from sklearn.feature_selection import SelectKBest\n",
    "\n",
    "sel = SelectKBest()\n",
    "\n",
    "sel.fit(X_train, y_train)"
   ]
  },
  {
   "cell_type": "code",
   "execution_count": 35,
   "metadata": {},
   "outputs": [
    {
     "data": {
      "text/plain": [
       "(127400, 10)"
      ]
     },
     "execution_count": 35,
     "metadata": {},
     "output_type": "execute_result"
    }
   ],
   "source": [
    "sel.transform(X_train).shape"
   ]
  },
  {
   "cell_type": "code",
   "execution_count": 36,
   "metadata": {
    "collapsed": true
   },
   "outputs": [],
   "source": [
    "#Apply Feature Selection on the train and test data\n",
    "\n",
    "X_train = sel.transform(X_train)\n",
    "X_test = sel.transform(X_test)"
   ]
  },
  {
   "cell_type": "markdown",
   "metadata": {},
   "source": [
    "#### Gradient Boost Model with Default Settings ####\n",
    "First I ran a Gradient Boost Model with the default settings. Gradient Boost model with the default settings was not the best.  My main measure of success for the model is the sensitivity.  The sensitivity for the Gradient Boost model is only about 57% only a little better than a coin flip.  "
   ]
  },
  {
   "cell_type": "code",
   "execution_count": 37,
   "metadata": {},
   "outputs": [
    {
     "name": "stdout",
     "output_type": "stream",
     "text": [
      "Sensitivity is 0.5733333333333334\n",
      "Specificity is 0.8929944400317712\n"
     ]
    }
   ],
   "source": [
    "from sklearn.model_selection import GridSearchCV\n",
    "from sklearn import ensemble\n",
    "\n",
    "# Initialize and fit the model.\n",
    "clf = ensemble.GradientBoostingClassifier(random_state=42)\n",
    "clf.fit(X_train, y_train)\n",
    "\n",
    "predict_train = clf.predict(X_train)\n",
    "predict_test = clf.predict(X_test)\n",
    "\n",
    "#Sensitivity and Specificity Score on the test dataset\n",
    "from sklearn.metrics import confusion_matrix\n",
    "matrix = confusion_matrix(y_test, predict_test)\n",
    "print('Sensitivity is {}'.format(matrix[1,1]/(matrix[0,1]+matrix[1,1])))\n",
    "print('Specificity is {}'.format(matrix[0,0]/(matrix[0,0]+matrix[1,0])))"
   ]
  },
  {
   "cell_type": "markdown",
   "metadata": {},
   "source": [
    "#### Gradient Boost Model with Gridsearch ####\n",
    "Lets see if we can improve the model by iterating through various model parameters via Gridsearch.  With Gridsearch, I set the scoring to 'precision' because sensitivity was my main measure of success for the model.  The set of parameters I used for GridSearch were:\n",
    "\n",
    "    1. n_estimators: [100, 200, 500, 700, 1000]\n",
    "    2. max_depth: [2, 3, 5, 7, 9, 15]\n",
    "    3. loss: ['deviance', 'exponential']\n",
    "\n",
    "The parameters that provided the best precision for the Gradient Boost model were:\n",
    "    \n",
    "    1. n_estimators: 100\n",
    "    2. max_depth: 2\n",
    "    3. loss: 'exponential'"
   ]
  },
  {
   "cell_type": "code",
   "execution_count": 38,
   "metadata": {},
   "outputs": [
    {
     "name": "stdout",
     "output_type": "stream",
     "text": [
      "Best Score: 0.617813242806\n",
      "Best Parameters: {'loss': 'exponential', 'max_depth': 2, 'n_estimators': 100}\n"
     ]
    }
   ],
   "source": [
    "parameters = [{'n_estimators': [100, 200, 500, 700, 1000], 'max_depth': [2, 3, 5, 7, 9, 15], 'loss': ['deviance', 'exponential']}]\n",
    "\n",
    "#Instantiating and fitting model through grid search\n",
    "grid_clf = GridSearchCV(clf, param_grid=parameters, scoring='precision')\n",
    "grid_clf.fit(X_train, y_train)\n",
    "\n",
    "#Printing the best score from the model\n",
    "print('Best Score:', grid_clf.best_score_)\n",
    "\n",
    "#Saving and printing the best parameters from the model\n",
    "best_params = grid_clf.best_params_\n",
    "print('Best Parameters:', best_params)"
   ]
  },
  {
   "cell_type": "code",
   "execution_count": 60,
   "metadata": {},
   "outputs": [
    {
     "name": "stdout",
     "output_type": "stream",
     "text": [
      "Sensitivity is 0.6410256410256411\n",
      "Specificity is 0.8901053827222818\n"
     ]
    }
   ],
   "source": [
    "best_clf = ensemble.GradientBoostingClassifier(**best_params)\n",
    "\n",
    "best_clf.fit(X_train, y_train)\n",
    "\n",
    "predict_train = best_clf.predict(X_train)\n",
    "predict_test = best_clf.predict(X_test)\n",
    "\n",
    "#Sensitivity and Specificity Score on the test dataset with the Best GB GridSearch paramters\n",
    "matrix = confusion_matrix(y_test, predict_test)\n",
    "print('Sensitivity is {}'.format(matrix[1,1]/(matrix[0,1]+matrix[1,1])))\n",
    "print('Specificity is {}'.format(matrix[0,0]/(matrix[0,0]+matrix[1,0])))"
   ]
  },
  {
   "cell_type": "code",
   "execution_count": 40,
   "metadata": {},
   "outputs": [
    {
     "name": "stdout",
     "output_type": "stream",
     "text": [
      "Cross Validation Accuracy Scores - Test Set: 0.88848(+/- 0.00)\n",
      "Cross Validation Accuracy Scores - Train Set: 0.89035(+/- 0.00)\n"
     ]
    }
   ],
   "source": [
    "#Cross-validation Accuracy Scores on the test and train dataset from Best GB GridSearch parameters\n",
    "from sklearn.model_selection import cross_val_score\n",
    "scores_GBtest = cross_val_score(best_clf, X_test, y_test, cv=10)\n",
    "print('Cross Validation Accuracy Scores - Test Set: {:.5f}(+/- {:.2f})'.format(scores_GBtest.mean(), \n",
    "                                                                               scores_GBtest.std()*2))\n",
    "scores_GBtrain = cross_val_score(best_clf, X_train, y_train, cv=10)\n",
    "print('Cross Validation Accuracy Scores - Train Set: {:.5f}(+/- {:.2f})'.format(scores_GBtrain.mean(), \n",
    "                                                                               scores_GBtrain.std()*2))"
   ]
  },
  {
   "cell_type": "code",
   "execution_count": 65,
   "metadata": {},
   "outputs": [
    {
     "name": "stdout",
     "output_type": "stream",
     "text": [
      "Cross Validation Precision Scores - Test Set: 0.60279(+/- 0.23)\n",
      "Cross Validation Precision Scores - Train Set: 0.63452(+/- 0.15)\n"
     ]
    }
   ],
   "source": [
    "#Cross-validation Precision Scores on the test and train dataset from Best GB GridSearch parameters\n",
    "from sklearn.model_selection import cross_val_score\n",
    "precision_GBtest = cross_val_score(best_clf, X_test, y_test, cv=10, scoring='precision')\n",
    "print('Cross Validation Precision Scores - Test Set: {:.5f}(+/- {:.2f})'.format(precision_GBtest.mean(), \n",
    "                                                                               precision_GBtest.std()*2))\n",
    "precision_GBtrain = cross_val_score(best_clf, X_train, y_train, cv=10, scoring='precision')\n",
    "print('Cross Validation Precision Scores - Train Set: {:.5f}(+/- {:.2f})'.format(precision_GBtrain.mean(), \n",
    "                                                                               precision_GBtrain.std()*2))"
   ]
  },
  {
   "cell_type": "code",
   "execution_count": 69,
   "metadata": {},
   "outputs": [
    {
     "data": {
      "text/plain": [
       "array([ 0.75      ,  0.85714286,  0.52941176,  0.5       ,  0.53846154,\n",
       "        0.6       ,  0.65217391,  0.5       ,  0.52173913,  0.57894737])"
      ]
     },
     "execution_count": 69,
     "metadata": {},
     "output_type": "execute_result"
    }
   ],
   "source": [
    "precision_GBtest"
   ]
  },
  {
   "cell_type": "markdown",
   "metadata": {},
   "source": [
    "#### Gradient Boost Model Variable Importance ####\n",
    "The top three variables for the Gradient Boost Model are:\n",
    "\n",
    "    1. Cumulative Count of Downgrades\n",
    "    2. Current Restaurant Demerits\n",
    "    3. Whether or not the Restaurant was in the 'Caterer' category"
   ]
  },
  {
   "cell_type": "code",
   "execution_count": 41,
   "metadata": {},
   "outputs": [
    {
     "data": {
      "image/png": "[encoded data removed]",
      "text/plain": [
       "<matplotlib.figure.Figure at 0x1a1e1c8748>"
      ]
     },
     "metadata": {},
     "output_type": "display_data"
    }
   ],
   "source": [
    "feature_importance = best_clf.feature_importances_\n",
    "\n",
    "# Make importances relative to max importance.\n",
    "feature_importance = 100.0 * (feature_importance / feature_importance.max())\n",
    "sorted_idx = np.argsort(feature_importance)\n",
    "pos = np.arange(sorted_idx.shape[0]) + .5\n",
    "plt.subplot(1, 2, 2)\n",
    "plt.barh(pos, feature_importance[sorted_idx], align='center')\n",
    "plt.yticks(pos, X.columns[sorted_idx])\n",
    "plt.xlabel('Relative Importance')\n",
    "plt.title('Variable Importance')\n",
    "plt.show()"
   ]
  },
  {
   "cell_type": "markdown",
   "metadata": {},
   "source": [
    "### Random Forest  Model ###\n",
    "I used a Random Forest model for the data.  I used the same training and test data.  I used a Random Forest model with default settings and I used a GridSearch optimized Random Forest model.  The Random Forest model with the default settings is only a little bit better than a coin flip with a sensitivity score of 51%.  "
   ]
  },
  {
   "cell_type": "code",
   "execution_count": 42,
   "metadata": {},
   "outputs": [
    {
     "name": "stdout",
     "output_type": "stream",
     "text": [
      "Sensitivity is 0.5136518771331058\n",
      "Specificity is 0.8950230296827022\n"
     ]
    }
   ],
   "source": [
    "from sklearn.ensemble import RandomForestClassifier\n",
    "\n",
    "rfc = RandomForestClassifier(random_state=42)\n",
    "rfc.fit(X_train, y_train)\n",
    "\n",
    "predict_test = rfc.predict(X_test)\n",
    "\n",
    "#Sensitivity and Specificity Score on the test dataset\n",
    "matrix = confusion_matrix(y_test, predict_test)\n",
    "print('Sensitivity is {}'.format(matrix[1,1]/(matrix[0,1]+matrix[1,1])))\n",
    "print('Specificity is {}'.format(matrix[0,0]/(matrix[0,0]+matrix[1,0])))"
   ]
  },
  {
   "cell_type": "markdown",
   "metadata": {},
   "source": [
    "#### Random Forest Model with Gridsearch ####\n",
    "With GridSearch I optimized the Random Forest model by finding the highest precision score.  Also, I used these parameters to find the best Random Forest Model:\n",
    "\n",
    "        1. n_estimators:[10,100,500]\n",
    "        2. max_features:['auto', 'sqrt', 'log2']\n",
    "        3. min_samples_split:[2,8,20]\n",
    "        4. bootstrap:[True, False]\n",
    "        5. max_depth:[5,6,7,8]\n",
    "\n",
    "The Random Forest model that had the higest precision score had these parameters:\n",
    "\n",
    "        1. n_estimators: 100\n",
    "        2. max_features: 'auto'\n",
    "        3. min_samples_split: 2\n",
    "        4. bootstrap: False\n",
    "        5. max_depth: 6"
   ]
  },
  {
   "cell_type": "code",
   "execution_count": 43,
   "metadata": {},
   "outputs": [
    {
     "name": "stdout",
     "output_type": "stream",
     "text": [
      "Best Score: 0.647582325274\n",
      "Best Parameters: {'bootstrap': False, 'max_depth': 6, 'max_features': 'auto', 'min_samples_split': 2, 'n_estimators': 100}\n"
     ]
    }
   ],
   "source": [
    "# Set of parameters to serach through for best score in Grid Search CV\n",
    "parameters = {'n_estimators':[10,100,500],\n",
    "             'max_features':['auto', 'sqrt', 'log2'],\n",
    "             'min_samples_split':[2,8,20],\n",
    "             'bootstrap':[True, False],\n",
    "             'max_depth':[5,6,7,8]}\n",
    "\n",
    "# Instantiating and fitting Grid Search, then printing best score and best parameters\n",
    "grid_rfc = GridSearchCV(rfc, param_grid=parameters, scoring='precision', cv=5)\n",
    "grid_rfc.fit(X_train, y_train)\n",
    "print('Best Score:', grid_rfc.best_score_)\n",
    "best_params_rfc = grid_rfc.best_params_\n",
    "print('Best Parameters:', best_params_rfc)"
   ]
  },
  {
   "cell_type": "code",
   "execution_count": 53,
   "metadata": {},
   "outputs": [
    {
     "name": "stdout",
     "output_type": "stream",
     "text": [
      "Sensitivity is 0.6762589928057554\n",
      "Specificity is 0.8899750875090663\n"
     ]
    }
   ],
   "source": [
    "best_rfc = RandomForestClassifier(**best_params_rfc)\n",
    "\n",
    "best_rfc.fit(X_train, y_train)\n",
    "\n",
    "predict_train = best_rfc.predict(X_train)\n",
    "predict_test = best_rfc.predict(X_test)\n",
    "\n",
    "#Sensitivity and Specificity Score on the test dataset\n",
    "matrix = confusion_matrix(y_test, predict_test)\n",
    "print('Sensitivity is {}'.format(matrix[1,1]/(matrix[0,1]+matrix[1,1])))\n",
    "print('Specificity is {}'.format(matrix[0,0]/(matrix[0,0]+matrix[1,0])))"
   ]
  },
  {
   "cell_type": "code",
   "execution_count": 54,
   "metadata": {},
   "outputs": [
    {
     "data": {
      "text/plain": [
       "array([[28222,    45],\n",
       "       [ 3489,    94]])"
      ]
     },
     "execution_count": 54,
     "metadata": {},
     "output_type": "execute_result"
    }
   ],
   "source": [
    "matrix"
   ]
  },
  {
   "cell_type": "code",
   "execution_count": 55,
   "metadata": {},
   "outputs": [
    {
     "data": {
      "text/plain": [
       "31850"
      ]
     },
     "execution_count": 55,
     "metadata": {},
     "output_type": "execute_result"
    }
   ],
   "source": [
    "len(X_test)"
   ]
  },
  {
   "cell_type": "code",
   "execution_count": 59,
   "metadata": {},
   "outputs": [
    {
     "name": "stdout",
     "output_type": "stream",
     "text": [
      "Cross Validation Accuracy Scores - Training Set: 0.891(+/- 0.00)\n",
      "Cross Validation Accuracy Scores - Test Set: 0.889(+/- 0.00)\n"
     ]
    }
   ],
   "source": [
    "# Calculating and reporting accuracy scores from cross validation to +/- 2 standard deviations from the mean\n",
    "scores_rfctrain = cross_val_score(best_rfc, X_train, y_train, cv=10)\n",
    "print('Cross Validation Accuracy Scores - Training Set: {:.3f}(+/- {:.2f})'.format(scores_rfctrain.mean(), \n",
    "                                                                      (scores_rfctrain.std()*2)))\n",
    "scores_rfctest = cross_val_score(best_rfc, X_test, y_test, cv=10)\n",
    "print('Cross Validation Accuracy Scores - Test Set: {:.3f}(+/- {:.2f})'.format(scores_rfctest.mean(), \n",
    "                                                                                 scores_rfctest.std()*2))"
   ]
  },
  {
   "cell_type": "code",
   "execution_count": 68,
   "metadata": {},
   "outputs": [
    {
     "name": "stdout",
     "output_type": "stream",
     "text": [
      "Cross Validation Precision Scores - Training Set: 0.636(+/- 0.12)\n",
      "Cross Validation Precision Scores - Test Set: 0.659(+/- 0.23)\n"
     ]
    }
   ],
   "source": [
    "# Calculating and reporting precision scores from cross validation to +/- 2 standard deviations from the mean\n",
    "precision_rfctrain = cross_val_score(best_rfc, X_train, y_train, cv=10, scoring='precision')\n",
    "print('Cross Validation Precision Scores - Training Set: {:.3f}(+/- {:.2f})'.format(precision_rfctrain.mean(), \n",
    "                                                                      (precision_rfctrain.std()*2)))\n",
    "precision_rfctest = cross_val_score(best_rfc, X_test, y_test, cv=10, scoring='precision')\n",
    "print('Cross Validation Precision Scores - Test Set: {:.3f}(+/- {:.2f})'.format(precision_rfctest.mean(), \n",
    "                                                                                 precision_rfctest.std()*2))"
   ]
  },
  {
   "cell_type": "code",
   "execution_count": 70,
   "metadata": {},
   "outputs": [
    {
     "data": {
      "text/plain": [
       "array([ 0.76923077,  0.85714286,  0.5625    ,  0.57142857,  0.53846154,\n",
       "        0.64285714,  0.72222222,  0.6       ,  0.8       ,  0.52631579])"
      ]
     },
     "execution_count": 70,
     "metadata": {},
     "output_type": "execute_result"
    }
   ],
   "source": [
    "precision_rfctest"
   ]
  },
  {
   "cell_type": "markdown",
   "metadata": {},
   "source": [
    "### Support Vector Machine Model ###\n",
    "I ran a Support Vector Machine Model on default settings and then I ran a Support Vector Machine Model with specific settings for the 'gamma' and 'C' parameters.  The parameter values I found were from the best parameters for a Support Vector Model for the Iris dataset.  I tried running gridsearch on a Support Vector Machine model but it took too long to run.  Specifying the parameters 'gamma' and 'C' did not improve the model."
   ]
  },
  {
   "cell_type": "code",
   "execution_count": 46,
   "metadata": {},
   "outputs": [
    {
     "name": "stdout",
     "output_type": "stream",
     "text": [
      "Sensitivity is 0.5360501567398119\n",
      "Specificity is 0.891789033015128\n"
     ]
    }
   ],
   "source": [
    "from sklearn.svm import SVC\n",
    "\n",
    "svc = SVC(random_state=42)\n",
    "svc.fit(X_train,y_train)\n",
    "\n",
    "predict_test = svc.predict(X_test)\n",
    "#Sensitivity and Specificity Score on the test dataset\n",
    "matrix = confusion_matrix(y_test, predict_test)\n",
    "print('Sensitivity is {}'.format(matrix[1,1]/(matrix[0,1]+matrix[1,1])))\n",
    "print('Specificity is {}'.format(matrix[0,0]/(matrix[0,0]+matrix[1,0])))"
   ]
  },
  {
   "cell_type": "code",
   "execution_count": 48,
   "metadata": {},
   "outputs": [
    {
     "name": "stdout",
     "output_type": "stream",
     "text": [
      "Sensitivity is 0.5360501567398119\n",
      "Specificity is 0.891789033015128\n"
     ]
    }
   ],
   "source": [
    "svc = SVC(random_state=42, C=1.0, gamma=0.1)\n",
    "svc.fit(X_train,y_train)\n",
    "\n",
    "predict_test = svc.predict(X_test)\n",
    "#Sensitivity and Specificity Score on the test dataset\n",
    "matrix = confusion_matrix(y_test, predict_test)\n",
    "print('Sensitivity is {}'.format(matrix[1,1]/(matrix[0,1]+matrix[1,1])))\n",
    "print('Specificity is {}'.format(matrix[0,0]/(matrix[0,0]+matrix[1,0])))"
   ]
  },
  {
   "cell_type": "code",
   "execution_count": 49,
   "metadata": {},
   "outputs": [
    {
     "name": "stdout",
     "output_type": "stream",
     "text": [
      "Cross Validation Accuracy Scores - Training Set: 0.891(+/- 0.00)\n",
      "Cross Validation Accuracy Scores - Test Set: 0.888(+/- 0.00)\n"
     ]
    }
   ],
   "source": [
    "# Calculating and reporting accuracy scores from cross validation to +/- 2 standard deviations from the mean\n",
    "scores_svctrain = cross_val_score(svc, X_train, y_train, cv=10)\n",
    "print('Cross Validation Accuracy Scores - Training Set: {:.3f}(+/- {:.2f})'.format(scores_svctrain.mean(), \n",
    "                                                                      (scores_svctrain.std()*2)))\n",
    "scores_svctest = cross_val_score(svc, X_test, y_test, cv=10)\n",
    "print('Cross Validation Accuracy Scores - Test Set: {:.3f}(+/- {:.2f})'.format(scores_svctest.mean(), \n",
    "                                                                                 scores_svctest.std()*2))"
   ]
  },
  {
   "cell_type": "code",
   "execution_count": 71,
   "metadata": {},
   "outputs": [
    {
     "name": "stdout",
     "output_type": "stream",
     "text": [
      "Cross Validation Precision Scores - Training Set: 0.571(+/- 0.06)\n",
      "Cross Validation Precision Scores - Test Set: 0.587(+/- 0.23)\n"
     ]
    }
   ],
   "source": [
    "# Calculating and reporting precision scores from cross validation to +/- 2 standard deviations from the mean\n",
    "precision_svctrain = cross_val_score(svc, X_train, y_train, cv=10, scoring='precision')\n",
    "print('Cross Validation Precision Scores - Training Set: {:.3f}(+/- {:.2f})'.format(precision_svctrain.mean(), \n",
    "                                                                      (precision_svctrain.std()*2)))\n",
    "precision_svctest = cross_val_score(svc, X_test, y_test, cv=10, scoring='precision')\n",
    "print('Cross Validation Precision Scores - Test Set: {:.3f}(+/- {:.2f})'.format(precision_svctest.mean(), \n",
    "                                                                                 precision_svctest.std()*2))"
   ]
  },
  {
   "cell_type": "code",
   "execution_count": 73,
   "metadata": {},
   "outputs": [
    {
     "data": {
      "text/plain": [
       "array([ 0.625     ,  0.73684211,  0.52941176,  0.55555556,  0.43478261,\n",
       "        0.47619048,  0.61904762,  0.76923077,  0.4375    ,  0.68181818])"
      ]
     },
     "execution_count": 73,
     "metadata": {},
     "output_type": "execute_result"
    }
   ],
   "source": [
    "precision_svctest"
   ]
  },
  {
   "cell_type": "markdown",
   "metadata": {},
   "source": [
    "### Model Analysis ###\n",
    "Of the three models I ran and the parameters I used let's see which one had the best accuracy.  "
   ]
  },
  {
   "cell_type": "code",
   "execution_count": 72,
   "metadata": {},
   "outputs": [
    {
     "data": {
      "text/html": [
       "<div>\n",
       "<style>\n",
       "    .dataframe thead tr:only-child th {\n",
       "        text-align: right;\n",
       "    }\n",
       "\n",
       "    .dataframe thead th {\n",
       "        text-align: left;\n",
       "    }\n",
       "\n",
       "    .dataframe tbody tr th {\n",
       "        vertical-align: top;\n",
       "    }\n",
       "</style>\n",
       "<table border=\"1\" class=\"dataframe\">\n",
       "  <thead>\n",
       "    <tr style=\"text-align: right;\">\n",
       "      <th></th>\n",
       "      <th>Model</th>\n",
       "      <th>Mean_Accuracy_Training</th>\n",
       "      <th>Mean_Accuracy_Test</th>\n",
       "      <th>Mean_Precision_Train</th>\n",
       "      <th>Mean_Precision_Test</th>\n",
       "    </tr>\n",
       "  </thead>\n",
       "  <tbody>\n",
       "    <tr>\n",
       "      <th>1</th>\n",
       "      <td>Random_Forest</td>\n",
       "      <td>0.891</td>\n",
       "      <td>0.889</td>\n",
       "      <td>0.636</td>\n",
       "      <td>0.659</td>\n",
       "    </tr>\n",
       "    <tr>\n",
       "      <th>0</th>\n",
       "      <td>Gradient_Boost</td>\n",
       "      <td>0.635</td>\n",
       "      <td>0.603</td>\n",
       "      <td>0.635</td>\n",
       "      <td>0.603</td>\n",
       "    </tr>\n",
       "    <tr>\n",
       "      <th>2</th>\n",
       "      <td>Support_Vector</td>\n",
       "      <td>0.891</td>\n",
       "      <td>0.888</td>\n",
       "      <td>0.571</td>\n",
       "      <td>0.587</td>\n",
       "    </tr>\n",
       "  </tbody>\n",
       "</table>\n",
       "</div>"
      ],
      "text/plain": [
       "            Model  Mean_Accuracy_Training  Mean_Accuracy_Test  \\\n",
       "1   Random_Forest                   0.891               0.889   \n",
       "0  Gradient_Boost                   0.635               0.603   \n",
       "2  Support_Vector                   0.891               0.888   \n",
       "\n",
       "   Mean_Precision_Train  Mean_Precision_Test  \n",
       "1                 0.636                0.659  \n",
       "0                 0.635                0.603  \n",
       "2                 0.571                0.587  "
      ]
     },
     "execution_count": 72,
     "metadata": {},
     "output_type": "execute_result"
    }
   ],
   "source": [
    "score_list = [['Gradient_Boost', scores_GBtrain.mean(), scores_GBtest.mean(), precision_GBtrain.mean(), precision_GBtest.mean()],\n",
    "             ['Random_Forest', scores_rfctrain.mean(), scores_rfctest.mean(), precision_rfctrain.mean(), precision_rfctest.mean()],\n",
    "             ['Support_Vector', scores_svctrain.mean(), scores_svctest.mean(), precision_svctrain.mean(), precision_svctest.mean()]]\n",
    "scores_overall = pd.DataFrame(score_list, columns=['Model','Mean_Accuracy_Training','Mean_Accuracy_Test', 'Mean_Precision_Train', 'Mean_Precision_Test'])\n",
    "scores_overall.sort_values('Mean_Precision_Test', ascending=False)"
   ]
  },
  {
   "cell_type": "markdown",
   "metadata": {},
   "source": [
    "## Conclusion ##\n",
    "For this capstone project, I wanted to build models that were able to predict if a restaurant in my hometown of Las Vegas was going to receive a downgrade in grade after an inspection.  I was able to engineer features from the open dataset from the Las Vegas City government website.  I created a target feature by using a regex algorithm to find the word 'Downgrade' in the 'Inspection Result' column.  I converted the 'Inspection Date' and 'Inspection Time' columns into a datetime object.  Finally, I created a cumulative count of downgrades for each restaurant.  I created a set of input features, converted the categorical features into integer features, and then finally conducted a KBest feature selection process that only yielded the top ten features.  With these top ten features I ran three data models.  \n",
    "\n",
    "Overall, the model that most accurately predicted the instance of a downgraded was a Random Forest classifier. The best Random Forest Classifier was found by iterating through a list of parameters using GridSearch.  The GridSearch was looking for the highest precision score.  With the optimized Random Forest Classifier, the data model was able to predict a correct downgrade in grade after an inspection 67% of the time.  \n",
    "\n",
    "A practical use of the model would be a machine learning optimized decision to inspect restaurant.  When restaurant inspectors inspect restaurants through random choice, 1 out of 10 out of the restaurants will result in a downgrade.  If a restaurant inspector used a Random Forest classifier-optimized search, about 7 out of 10 restaurants would result in a downgrade.  That's 6 more restaurants than by random choice and 6 more restaurants that would be corrected for health code violations.  I believe this would help prevent foodborne illnesses more effectively as restaurant inspectors would be inspecting more restaurants who are most at risk of getting a downgrade."
   ]
  },
  {
   "cell_type": "code",
   "execution_count": null,
   "metadata": {
    "collapsed": true
   },
   "outputs": [],
   "source": []
  }
 ],
 "metadata": {
  "kernelspec": {
   "display_name": "Python 3",
   "language": "python",
   "name": "python3"
  },
  "language_info": {
   "codemirror_mode": {
    "name": "ipython",
    "version": 3
   },
   "file_extension": ".py",
   "mimetype": "text/x-python",
   "name": "python",
   "nbconvert_exporter": "python",
   "pygments_lexer": "ipython3",
   "version": "3.6.2"
  }
 },
 "nbformat": 4,
 "nbformat_minor": 2
}
